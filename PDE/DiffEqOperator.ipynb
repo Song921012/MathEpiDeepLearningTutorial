{
 "cells": [
  {
   "cell_type": "markdown",
   "metadata": {},
   "source": [
    "# 1D PeriodicBC, DirecletBC, "
   ]
  },
  {
   "cell_type": "code",
   "execution_count": 12,
   "metadata": {},
   "outputs": [
    {
     "data": {
      "text/plain": [
       "4×4 Matrix{Float64}:\n",
       " -25.0   25.0    0.0    0.0\n",
       "  25.0  -50.0   25.0    0.0\n",
       "   0.0   25.0  -50.0   25.0\n",
       "   0.0    0.0   25.0  -25.0"
      ]
     },
     "execution_count": 12,
     "metadata": {},
     "output_type": "execute_result"
    }
   ],
   "source": [
    "using DiffEqOperators, Plots\n",
    "\n",
    "nknots = 4\n",
    "h = 1.0 / (nknots + 1)\n",
    "knots = range(h, step=h, length=nknots)\n",
    "ord_deriv = 2\n",
    "ord_approx = 2\n",
    "\n",
    "Δ = CenteredDifference(ord_deriv, ord_approx, h, nknots)\n",
    "bc = Dirichlet0BC(Float64)\n",
    "bc_p = PeriodicBC(Float64)\n",
    "bc_n = Neumann0BC(h)\n",
    "\n",
    "A = Array(Δ * bc_p)[1]\n",
    "B = Array(Δ * bc)[1]\n",
    "C = Array(Δ * bc_n)[1]\n",
    "#heatmap(A)"
   ]
  },
  {
   "cell_type": "code",
   "execution_count": null,
   "metadata": {},
   "outputs": [],
   "source": [
    "using DiffEqOperators, Test\n",
    "\n",
    "@testset \"Auxiliary functions for GhostDerivativeOperator\" begin\n",
    "    # check length and size functions\n",
    "    L = CenteredDifference(2, 2, 1., 10)\n",
    "    Q1 = RobinBC((-1.2, .3, .5), (.2, .5, -30.5), 1.)\n",
    "    Q2 = PeriodicBC(Float64)\n",
    "\n",
    "    A = L * Q1\n",
    "    B = L * Q2\n",
    "\n",
    "    @test ndims(A) == 2\n",
    "    @test size(A) == (10, 10)\n",
    "    @test size(A, 1) == 10\n",
    "    @test length(A) == 100\n",
    "\n",
    "    @test ndims(B) == 2\n",
    "    @test size(B) == (10, 10)\n",
    "    @test size(B, 1) == 10\n",
    "    @test length(B) == 100\n",
    "end"
   ]
  },
  {
   "cell_type": "markdown",
   "metadata": {},
   "source": [
    "# 2D"
   ]
  },
  {
   "cell_type": "code",
   "execution_count": 46,
   "metadata": {},
   "outputs": [
    {
     "data": {
      "text/plain": [
       "100×120 Matrix{Float64}:\n",
       " 1.0  -2.0   1.0   0.0   0.0   0.0  …   0.0   0.0   0.0   0.0   0.0  0.0\n",
       " 0.0   1.0  -2.0   1.0   0.0   0.0      0.0   0.0   0.0   0.0   0.0  0.0\n",
       " 0.0   0.0   1.0  -2.0   1.0   0.0      0.0   0.0   0.0   0.0   0.0  0.0\n",
       " 0.0   0.0   0.0   1.0  -2.0   1.0      0.0   0.0   0.0   0.0   0.0  0.0\n",
       " 0.0   0.0   0.0   0.0   1.0  -2.0      0.0   0.0   0.0   0.0   0.0  0.0\n",
       " 0.0   0.0   0.0   0.0   0.0   1.0  …  -0.0   0.0   0.0   0.0   0.0  0.0\n",
       " 0.0   0.0   0.0   0.0   0.0   0.0      0.0  -0.0   0.0   0.0   0.0  0.0\n",
       " 0.0   0.0   0.0   0.0   0.0   0.0      0.0   0.0  -0.0   0.0   0.0  0.0\n",
       " 0.0   0.0   0.0   0.0   0.0   0.0      0.0   0.0   0.0  -0.0   0.0  0.0\n",
       " 0.0   0.0   0.0   0.0   0.0   0.0      0.0   0.0   0.0   0.0  -0.0  0.0\n",
       " 0.0  -0.0   0.0   0.0   0.0   0.0  …   0.0   0.0   0.0   0.0   0.0  0.0\n",
       " 0.0   0.0  -0.0   0.0   0.0   0.0      0.0   0.0   0.0   0.0   0.0  0.0\n",
       " 0.0   0.0   0.0  -0.0   0.0   0.0      0.0   0.0   0.0   0.0   0.0  0.0\n",
       " ⋮                             ⋮    ⋱         ⋮                      \n",
       " 0.0   0.0   0.0   0.0   0.0   0.0      0.0   0.0   0.0  -0.0   0.0  0.0\n",
       " 0.0   0.0   0.0   0.0   0.0   0.0      0.0   0.0   0.0   0.0  -0.0  0.0\n",
       " 0.0  -0.0   0.0   0.0   0.0   0.0  …   0.0   0.0   0.0   0.0   0.0  0.0\n",
       " 0.0   0.0  -0.0   0.0   0.0   0.0      0.0   0.0   0.0   0.0   0.0  0.0\n",
       " 0.0   0.0   0.0  -0.0   0.0   0.0      0.0   0.0   0.0   0.0   0.0  0.0\n",
       " 0.0   0.0   0.0   0.0  -0.0   0.0      0.0   0.0   0.0   0.0   0.0  0.0\n",
       " 0.0   0.0   0.0   0.0   0.0  -0.0      1.0   0.0   0.0   0.0   0.0  0.0\n",
       " 0.0   0.0   0.0   0.0   0.0   0.0  …  -2.0   1.0   0.0   0.0   0.0  0.0\n",
       " 0.0   0.0   0.0   0.0   0.0   0.0      1.0  -2.0   1.0   0.0   0.0  0.0\n",
       " 0.0   0.0   0.0   0.0   0.0   0.0      0.0   1.0  -2.0   1.0   0.0  0.0\n",
       " 0.0   0.0   0.0   0.0   0.0   0.0      0.0   0.0   1.0  -2.0   1.0  0.0\n",
       " 0.0   0.0   0.0   0.0   0.0   0.0      0.0   0.0   0.0   1.0  -2.0  1.0"
      ]
     },
     "execution_count": 46,
     "metadata": {},
     "output_type": "execute_result"
    }
   ],
   "source": [
    "\n",
    "n = 10\n",
    "\n",
    "Lxx = CenteredDifference{1}(2,2,1.,n) \n",
    "Lyy = CenteredDifference{2}(2,2,1.,n) \n",
    "D = Lxx + Lyy\n",
    "\n",
    "Mxx = Array(D.ops[1], (n,n))\n",
    "Myy = Array(D.ops[2], (n,n))\n",
    "\n",
    "D = Lxx + Lyy\n",
    "\n",
    "Array(D, (n,n))\n",
    "\n",
    "Mxx\n"
   ]
  },
  {
   "cell_type": "code",
   "execution_count": 17,
   "metadata": {},
   "outputs": [
    {
     "data": {
      "text/plain": [
       "4×4 Matrix{Float64}:\n",
       " -2.0   1.0   0.0   1.0\n",
       "  1.0  -2.0   1.0   0.0\n",
       "  0.0   1.0  -2.0   1.0\n",
       "  1.0   0.0   1.0  -2.0"
      ]
     },
     "execution_count": 17,
     "metadata": {},
     "output_type": "execute_result"
    }
   ],
   "source": [
    "\n",
    "Lxx = CenteredDifference{1}(2,2,1.0,4)\n",
    "Lyy = CenteredDifference{2}(2,2,1.0,4)\n",
    "A = Lxx*bc_p + Lyy*bc_p\n",
    "Array(Lxx*bc_p)[1]\n"
   ]
  },
  {
   "cell_type": "code",
   "execution_count": 45,
   "metadata": {},
   "outputs": [
    {
     "data": {
      "text/plain": [
       "(4, 4)"
      ]
     },
     "execution_count": 45,
     "metadata": {},
     "output_type": "execute_result"
    }
   ],
   "source": [
    "using DiffEqOperators\n",
    "bc_p = PeriodicBC(Float64)\n",
    "N = 4\n",
    "dx = 0.1\n",
    "Dxx = CenteredDifference(2,2,dx,N)\n",
    "Dyy = CenteredDifference{2}(2,2,dx,N)\n",
    "L0 = Dxx+Dyy\n",
    "bc_px = MultiDimBC{1}(Dirichlet0BC(Float64), (4,4))\n",
    "bc_py = MultiDimBC{2}(Dirichlet0BC(Float64), (4,4))\n",
    "bc_co = compose(bc_px,bc_py)\n",
    "L = Dxx*bc_p + Dyy*bc_p\n",
    "using Random\n",
    "L1 = L0*bc_co\n",
    "Array(Dxx)\n",
    "size(L)"
   ]
  },
  {
   "cell_type": "code",
   "execution_count": 44,
   "metadata": {},
   "outputs": [
    {
     "data": {
      "text/plain": [
       "\u001b[32m\u001b[1mTest Passed\u001b[22m\u001b[39m\n",
       "  Expression: u ≈ u_analytic.(knots)\n",
       "   Evaluated: [-0.7685950413223139, -0.5289256198347106, -0.2809917355371899, -0.024793388429751873, 0.23966942148760348, 0.5123966942148762, 0.7933884297520662, 1.0826446280991737, 1.3801652892561984, 1.6859504132231407] ≈ [-0.768595041322314, -0.5289256198347108, -0.28099173553719015, -0.024793388429751984, 0.23966942148760317, 0.5123966942148759, 0.7933884297520661, 1.0826446280991737, 1.3801652892561984, 1.6859504132231402]"
      ]
     },
     "execution_count": 44,
     "metadata": {},
     "output_type": "execute_result"
    }
   ],
   "source": [
    "# # Poisson Equation\n",
    "#\n",
    "# We want to solve the [poisson equation](https://en.wikipedia.org/wiki/Poisson_equation) on the unit interval. It is given by\n",
    "# `Δu = f` with boundary conditions `u(0) = a` and `u(1) = b`.\n",
    "# First of all, let us choose some values for the parameters and remark that there is an exact solution:\n",
    "f = 1.0\n",
    "a = -1.0\n",
    "b = 2.0\n",
    "\n",
    "u_analytic(x) = f / 2 * x^2 + (b - a - f / 2) * x + a\n",
    "\n",
    "# We would like to recompute this solution numerically\n",
    "using DiffEqOperators\n",
    "\n",
    "nknots = 10\n",
    "h = 1.0 / (nknots + 1)\n",
    "ord_deriv = 2\n",
    "ord_approx = 2\n",
    "\n",
    "Δ = CenteredDifference(ord_deriv, ord_approx, h, nknots)\n",
    "bc = DirichletBC(a, b)\n",
    "\n",
    "# Before solving the equation, let's take a look at Δ and bc:\n",
    "# display(Array(Δ))\n",
    "# display(bc*zeros(nknots))\n",
    "# We see that `Δ` is a (lazy) matrix with the Laplace stencil extended over the boundaries.\n",
    "# And `bc` acts by padding the values just outside the boundaries.\n",
    "\n",
    "u = (Δ * bc) \\ fill(f, nknots)\n",
    "knots = range(h, step=h, length=nknots)\n",
    "\n",
    "# Since we used a second order approximation and the analytic solution itself was a second-order\n",
    "# polynomial, we expect them to be equal up to rounding errors:\n",
    "using Test\n",
    "@test u ≈ u_analytic.(knots)\n"
   ]
  },
  {
   "cell_type": "code",
   "execution_count": 41,
   "metadata": {},
   "outputs": [
    {
     "ename": "LoadError",
     "evalue": "cannot declare bc_p constant; it already has a value",
     "output_type": "error",
     "traceback": [
      "cannot declare bc_p constant; it already has a value",
      "",
      "Stacktrace:",
      " [1] top-level scope",
      "   @ In[41]:2",
      " [2] eval",
      "   @ .\\boot.jl:373 [inlined]",
      " [3] include_string(mapexpr::typeof(REPL.softscope), mod::Module, code::String, filename::String)",
      "   @ Base .\\loading.jl:1196"
     ]
    }
   ],
   "source": [
    "using DiffEqOperators\n",
    "const bc_p = PeriodicBC(Float64)\n",
    "N = 4\n",
    "dx = 0.1\n",
    "Dxx = CenteredDifference(2,2,dx,N)\n",
    "Dyy = CenteredDifference{2}(2,2,dx,N)\n",
    "L0 = Dxx+Dyy\n",
    "bc_px = MultiDimBC{1}(Dirichlet0BC(Float64), (4,4))\n",
    "bc_py = MultiDimBC{2}(Dirichlet0BC(Float64), (4,4))\n",
    "bc_co = compose(bc_px,bc_py)\n",
    "L1 = L0*bc_co\n",
    "Array(L1)\n",
    "Array(L1,4)\n",
    "Array(L1,(4,4))\n",
    "using BlockBandedMatrices\n",
    "BandedBlockBandedMatrix(L1)\n",
    "BandedBlockBandedMatrix(L1,4)\n",
    "BandedBlockBandedMatrix(L1,(4,4))"
   ]
  },
  {
   "cell_type": "code",
   "execution_count": null,
   "metadata": {},
   "outputs": [],
   "source": [
    "using DiffEqOperators, OrdinaryDiffEq\n",
    "\n",
    "# # Heat Equation\n",
    "# This example demonstrates how to combine `OrdinaryDiffEq` with `DiffEqOperators` to solve a time-dependent PDE.\n",
    "# We consider the heat equation on the unit interval, with Dirichlet boundary conditions:\n",
    "# ∂ₜu = Δu\n",
    "# u(x=0,t)  = a\n",
    "# u(x=1,t)  = b\n",
    "# u(x, t=0) = u₀(x)\n",
    "#\n",
    "# For `a = b = 0` and `u₀(x) = sin(2πx)` a solution is given by:\n",
    "u_analytic(x, t) = sin(2*π*x) * exp(-t*(2*π)^2)\n",
    "\n",
    "nknots = 100\n",
    "h = 1.0/(nknots+1)\n",
    "knots = range(h, step=h, length=nknots)\n",
    "ord_deriv = 2\n",
    "ord_approx = 2\n",
    "\n",
    "const Δ = CenteredDifference(ord_deriv, ord_approx, h, nknots)\n",
    "const bc = Dirichlet0BC(Float64)\n",
    "\n",
    "t0 = 0.0\n",
    "t1 = 0.03\n",
    "u0 = u_analytic.(knots, t0)\n",
    "\n",
    "step(u,p,t) = Δ*bc*u\n",
    "prob = ODEProblem(step, u0, (t0, t1))\n",
    "alg = KenCarp4()\n",
    "sol = solve(prob, alg)"
   ]
  },
  {
   "cell_type": "markdown",
   "metadata": {},
   "source": [
    "# 3D"
   ]
  },
  {
   "cell_type": "code",
   "execution_count": null,
   "metadata": {},
   "outputs": [],
   "source": [
    "using DiffEqOperators\n",
    "\n",
    "s = x, y, z = (-5:0.2:5, -5:0.2:5, -5:0.2:5)\n",
    "dx = dy = dz = x[2] - x[1]\n",
    "\n",
    "ricker(x::T, y::T, z::T) where T = (4*(x^2+y^2+z^2) - 6)*exp(-(x^2+y^2+z^2))\n",
    "\n",
    "u0 = [ricker(X, Y, Z) for Z in z, Y in y, X in x]\n",
    "\n",
    "Dxx = CenteredDifference{1}(2, 4, dx, length(x))\n",
    "Dyy = CenteredDifference{2}(2, 4, dy, length(y))\n",
    "Dzz = CenteredDifference{3}(2, 4, dz, length(z))\n",
    "\n",
    "A = Dxx+Dyy+Dzz\n",
    "Q = compose(Dirichlet0BC(Float64, length.(s))...)\n",
    "\n",
    "dt = dx/(sqrt(3)*3e8)\n",
    "t = 0.0:dt:10/3e8\n",
    "\n",
    "f(u,p,t) = (3e8)^2 .*(A*Q*u)\n",
    "\n",
    "\n",
    "\n",
    "function steptime(u,uold,uolder)\n",
    "    return ((dt^2 .*f(u,0,0) .+ 5u .- 4uold .+ uolder)./2, u, uold)\n",
    "end\n",
    "let uolder = deepcopy(u0), uold = deepcopy(u0), u = deepcopy(u0)\n",
    "    u,uold,uolder = steptime(u0,uold,uolder)\n",
    "    # @gif for ti in t #4th order time stepper\n",
    "    #         u, uold, uolder = steptime(u,uold,uolder)\n",
    "    #         heatmap(u)\n",
    "    # end\n",
    "    for ti in t #4th order time stepper\n",
    "        u, uold, uolder = steptime(u,uold,uolder)\n",
    "    end\n",
    "end\n"
   ]
  }
 ],
 "metadata": {
  "kernelspec": {
   "display_name": "Julia 1.7.2",
   "language": "julia",
   "name": "julia-1.7"
  },
  "language_info": {
   "file_extension": ".jl",
   "mimetype": "application/julia",
   "name": "julia",
   "version": "1.7.2"
  },
  "orig_nbformat": 4
 },
 "nbformat": 4,
 "nbformat_minor": 2
}
