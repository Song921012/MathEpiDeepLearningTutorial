{
 "cells": [
  {
   "cell_type": "code",
   "execution_count": 17,
   "metadata": {},
   "outputs": [
    {
     "name": "stdout",
     "output_type": "stream",
     "text": [
      "[0.5333333333333323, 0.13333333333333286]\n",
      "[0.5063291139240498, 0.1265822784810129]\n",
      "[0.5012531328320806, 0.1253132832080206]\n",
      "[0.5002501250625304, 0.12506253126563216]\n",
      "[0.5000500050004995, 0.12501250125012509]\n",
      "[0.5000100002000041, 0.12500250005000058]\n",
      "[0.5000020000079992, 0.12500050000199936]\n",
      "[0.5000004000003173, 0.12500010000007822]\n"
     ]
    }
   ],
   "source": [
    "using GalacticOptim\n",
    "using Optim\n",
    "f(x, p) =  -x[1]*x[2] + p*(x[1]+4*x[2] -1)^2\n",
    "p = 1\n",
    "for i = 1:8\n",
    "    x0 = [10.0,10.0]\n",
    "    prob = OptimizationFunction(f, GalacticOptim.AutoForwardDiff())\n",
    "    prob = GalacticOptim.OptimizationProblem(prob, x0, p)\n",
    "    sol = solve(prob, Optim.BFGS())\n",
    "    p  = 5*p\n",
    "    println(sol.u)\n",
    "end"
   ]
  },
  {
   "cell_type": "code",
   "execution_count": 4,
   "metadata": {},
   "outputs": [
    {
     "data": {
      "text/plain": [
       "u: 2-element Vector{Float64}:\n",
       " 0.8\n",
       " 0.6400000000000001"
      ]
     },
     "execution_count": 4,
     "metadata": {},
     "output_type": "execute_result"
    }
   ],
   "source": [
    "using GalacticOptim\n",
    "using ForwardDiff\n",
    "using NLopt\n",
    "rosenbrock(x, p) =  (1 - x[1])^2 + 100 * (x[2] - x[1]^2)^2\n",
    "x0 = zeros(2)\n",
    "p  = [1.0,100.0]\n",
    "optprob = OptimizationFunction(rosenbrock, GalacticOptim.AutoForwardDiff())\n",
    "prob = GalacticOptim.OptimizationProblem(optprob, x0, p, lb=[-1.0, -1.0], ub=[0.8, 0.8])\n",
    "sol = solve(prob, NLopt.LD_LBFGS())"
   ]
  }
 ],
 "metadata": {
  "kernelspec": {
   "display_name": "Julia 1.6.2",
   "language": "julia",
   "name": "julia-1.6"
  },
  "language_info": {
   "file_extension": ".jl",
   "mimetype": "application/julia",
   "name": "julia",
   "version": "1.6.2"
  },
  "orig_nbformat": 4
 },
 "nbformat": 4,
 "nbformat_minor": 2
}
