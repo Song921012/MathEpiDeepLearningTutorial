{
 "cells": [
  {
   "cell_type": "code",
   "execution_count": null,
   "metadata": {},
   "outputs": [],
   "source": [
    "import pandas as pd\n",
    "source_data = pd.read_csv(\"database.csv\")\n",
    "source_data.head()\n",
    "data_using_popular = source_data.loc[\n",
    "    source_data[\"Country/Region\"].isin([\"China\", \"South Africa\",\"United States\",\"United Kingdom\", \"Germany\", \"Japan\",\"Korean\",\"France\",\"Russia\",\"Italy\",\"Spanish\",\"India\"]), :]\n",
    "data_using_chinavac = source_data.loc[source_data[\"Country/Region\"].isin([\n",
    "    \"Indonesia\", \"Pakistan\", \"Iran\", \"Turkey\", \"Brazil\", \"Bangladesh\",\n",
    "    \"Mexico\", \"Chile\", \"Philippines\", \"Morocco\"\n",
    "]), :]\n",
    "data_using_popular.to_csv(\"Rt_major_countires.csv\",index = False)\n",
    "data_using_chinavac.to_csv(\"Rt_china_vac_top10countires.csv\", index=False)\n"
   ]
  },
  {
   "cell_type": "code",
   "execution_count": null,
   "metadata": {},
   "outputs": [],
   "source": [
    "import pandas as pd\n",
    "\n",
    "source_data = pd.read_csv(\"owid-covid-data.csv\")\n",
    "vac_data_using_popular = source_data.loc[source_data[\"location\"].isin([\n",
    "    \"China\", \"South Africa\", \"United States\", \"United Kingdom\", \"Germany\",\n",
    "    \"Japan\", \"Korean\", \"France\", \"Russia\", \"Italy\", \"Spanish\", \"India\"\n",
    "]), :]\n",
    "vac_data_using_chinavac = source_data.loc[source_data[\"location\"].isin([\n",
    "    \"Indonesia\", \"Pakistan\", \"Iran\", \"Turkey\", \"Brazil\", \"Bangladesh\",\n",
    "    \"Mexico\", \"Chile\", \"Philippines\", \"Morocco\"\n",
    "]), :]\n",
    "vac_data_using_popular.to_csv(\"Other_case_vacc_major_countires.csv\", index=False)\n",
    "vac_data_using_chinavac.to_csv(\"Other_case_vacc_china_vac_top10countires.csv\",\n",
    "                               index=False)\n"
   ]
  },
  {
   "cell_type": "code",
   "execution_count": null,
   "metadata": {},
   "outputs": [],
   "source": [
    "import pandas as pd\n",
    "\n",
    "source_data = pd.read_json(\"20H.Beta.V2_data.json\")\n",
    "print(source_data.head())\n",
    "time_series = source_data.loc[\"week\", \"South Africa\"]\n",
    "time_series"
   ]
  },
  {
   "cell_type": "code",
   "execution_count": null,
   "metadata": {},
   "outputs": [],
   "source": [
    "import pandas as pd\n",
    "import numpy as np\n",
    "from pandas_profiling import ProfileReport\n",
    "\n",
    "\n",
    "source_data = pd.read_csv(\"owid-covid-data.csv\")\n",
    "profile = ProfileReport(source_data, title=\"Pandas Profiling Report\")\n",
    "profile\n"
   ]
  }
 ],
 "metadata": {
  "interpreter": {
   "hash": "7234b975ec738607e9872d6930532d84b8f81d95c7ffb7f414be85dd3f3d56be"
  },
  "kernelspec": {
   "display_name": "Python 3.9.5 64-bit ('ML': conda)",
   "language": "python",
   "name": "python3"
  },
  "language_info": {
   "codemirror_mode": {
    "name": "ipython",
    "version": 3
   },
   "file_extension": ".py",
   "mimetype": "text/x-python",
   "name": "python",
   "nbconvert_exporter": "python",
   "pygments_lexer": "ipython3",
   "version": "3.9.5"
  },
  "orig_nbformat": 4
 },
 "nbformat": 4,
 "nbformat_minor": 2
}
