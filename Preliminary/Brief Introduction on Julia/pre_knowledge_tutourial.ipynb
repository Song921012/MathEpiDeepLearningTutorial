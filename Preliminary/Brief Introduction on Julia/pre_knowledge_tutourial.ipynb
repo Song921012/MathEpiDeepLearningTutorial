{
 "cells": [
  {
   "cell_type": "code",
   "execution_count": 1,
   "source": [
    "] activate .."
   ],
   "outputs": [
    {
     "output_type": "stream",
     "name": "stderr",
     "text": [
      "\u001b[32m\u001b[1m  Activating\u001b[22m\u001b[39m environment at `e:\\Pythonfiles\\JP\\ML\\Project.toml`\n"
     ]
    }
   ],
   "metadata": {}
  },
  {
   "cell_type": "markdown",
   "source": [
    "# Chapter 1. Multiarrays\r\n",
    "\r\n",
    ",不具有拼接功能[A,B]表示A和B组成的列向量\r\n",
    "\r\n",
    "冒号:和分号;以及下一行表示列拼接.\r\n",
    "\r\n",
    "行拼接.\r\n"
   ],
   "metadata": {}
  },
  {
   "cell_type": "markdown",
   "source": [],
   "metadata": {}
  },
  {
   "cell_type": "code",
   "execution_count": 5,
   "source": [
    "println([1,2]==[1 2])\r\n",
    "println([1:2, 2:3])\r\n",
    "println([1:2;2:3])\r\n",
    "println([[1,2],[3,4]])\r\n",
    "println([[1 2],[3 4]])\r\n",
    "println([[1,2] [3,4]])\r\n",
    "println([[1 2] [3 4]])"
   ],
   "outputs": [
    {
     "output_type": "stream",
     "name": "stdout",
     "text": [
      "false\n",
      "UnitRange{Int64}[1:2, 2:3]\n",
      "[1, 2, 2, 3]\n",
      "[[1, 2], [3, 4]]\n",
      "[[1 2], [3 4]]\n",
      "[1 3; 2 4]\n",
      "[1 2 3 4]\n"
     ]
    }
   ],
   "metadata": {}
  },
  {
   "cell_type": "markdown",
   "source": [
    "向量生成. 默认是列向量"
   ],
   "metadata": {}
  },
  {
   "cell_type": "code",
   "execution_count": 20,
   "source": [
    "println(randn(Float32, 3, 2))\r\n",
    "println(ones(Float32, 3, 2))\r\n",
    "println(randn(2)) \r\n",
    "println([1:2])\r\n",
    "println(reshape(1:10,2,5))\r\n",
    "A = reshape(1:10,2,5)\r\n",
    "A = [1 2;3 4]\r\n",
    "fill!(A,1.0)\r\n",
    "fill(1,2,3)\r\n",
    "range(1.0,10.0,step=10)\r\n",
    "range(1.0,10,length=10)\r\n",
    "println([i[1]*i[2]-i[3] for i in zip(1:10,2:11,3:12)])"
   ],
   "outputs": [
    {
     "output_type": "stream",
     "name": "stdout",
     "text": [
      "Float32[2.2228467 -1.1427279; -0.20749837 1.2496462; 1.2136914 0.28528836]\n",
      "Float32[1.0 1.0; 1.0 1.0; 1.0 1.0]\n",
      "[-1.212724760334589, -0.8982687808510864]\n",
      "UnitRange{Int64}[1:2]\n",
      "[1 3 5 7 9; 2 4 6 8 10]\n",
      "[-1, 2, 7, 14, 23, 34, 47, 62, 79, 98]\n"
     ]
    }
   ],
   "metadata": {}
  },
  {
   "cell_type": "markdown",
   "source": [
    "# Chapter 2 Plots"
   ],
   "metadata": {}
  }
 ],
 "metadata": {
  "orig_nbformat": 4,
  "language_info": {
   "file_extension": ".jl",
   "name": "julia",
   "mimetype": "application/julia",
   "version": "1.6.2"
  },
  "kernelspec": {
   "name": "julia-1.6",
   "display_name": "Julia 1.6.2",
   "language": "julia"
  }
 },
 "nbformat": 4,
 "nbformat_minor": 2
}