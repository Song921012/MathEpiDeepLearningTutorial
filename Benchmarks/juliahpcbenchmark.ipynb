{
 "cells": [
  {
   "cell_type": "markdown",
   "metadata": {},
   "source": [
    "Title: julia computations benchmark\n",
    "\n",
    "# [f(x,y) for x in, y in]"
   ]
  },
  {
   "cell_type": "code",
   "execution_count": 1,
   "metadata": {},
   "outputs": [],
   "source": [
    "using BenchmarkTools"
   ]
  },
  {
   "cell_type": "code",
   "execution_count": 5,
   "metadata": {},
   "outputs": [
    {
     "name": "stdout",
     "output_type": "stream",
     "text": [
      "  52.310 ms (1978000 allocations: 30.18 MiB)\n"
     ]
    }
   ],
   "source": [
    "f!(x,y) = sin(x)+cos(y)\n",
    "C = zeros(1000,1000)\n",
    "@btime for y in 1:1000\n",
    "       for x in 1:1000\n",
    "       C[x,y] = f!(x,y)\n",
    "       end\n",
    "       end"
   ]
  },
  {
   "cell_type": "markdown",
   "metadata": {},
   "source": [
    "for x, for y (Bad choice)"
   ]
  },
  {
   "cell_type": "code",
   "execution_count": 11,
   "metadata": {},
   "outputs": [
    {
     "name": "stdout",
     "output_type": "stream",
     "text": [
      "  52.861 ms (1978000 allocations: 30.18 MiB)\n"
     ]
    }
   ],
   "source": [
    "@btime for x in 1:1000\n",
    "       for y in 1:1000\n",
    "       C[x,y] = f!(x,y)\n",
    "       end\n",
    "       end"
   ]
  },
  {
   "cell_type": "code",
   "execution_count": 6,
   "metadata": {},
   "outputs": [
    {
     "name": "stdout",
     "output_type": "stream",
     "text": [
      "  16.484 ms (1978021 allocations: 30.18 MiB)\n"
     ]
    }
   ],
   "source": [
    "@btime Threads.@threads for y in 1:1000\n",
    "       for x in 1:1000\n",
    "       C[x,y] = f!(x,y)\n",
    "       end\n",
    "       end"
   ]
  },
  {
   "cell_type": "markdown",
   "metadata": {},
   "source": [
    "Using multi threads and @inbounds"
   ]
  },
  {
   "cell_type": "code",
   "execution_count": 10,
   "metadata": {},
   "outputs": [
    {
     "name": "stdout",
     "output_type": "stream",
     "text": [
      "  14.812 ms (1978021 allocations: 30.18 MiB)\n"
     ]
    }
   ],
   "source": [
    "@btime Threads.@threads for y in 1:1000\n",
    "       for x in 1:1000\n",
    "       @inbounds C[x,y] = f!(x,y)\n",
    "       end\n",
    "       end"
   ]
  },
  {
   "cell_type": "markdown",
   "metadata": {},
   "source": [
    "using generator"
   ]
  },
  {
   "cell_type": "code",
   "execution_count": 8,
   "metadata": {},
   "outputs": [
    {
     "name": "stdout",
     "output_type": "stream",
     "text": [
      "  25.285 ms (2 allocations: 7.63 MiB)\n"
     ]
    }
   ],
   "source": [
    "@btime [f!(x,y) for x in 1:1000, y in 1:1000];"
   ]
  },
  {
   "cell_type": "code",
   "execution_count": 14,
   "metadata": {},
   "outputs": [
    {
     "name": "stdout",
     "output_type": "stream",
     "text": [
      "  7.300 ms (11 allocations: 320 bytes)\n"
     ]
    }
   ],
   "source": [
    "using LoopVectorization\n",
    "@btime @turbo for y in 1:1000\n",
    "    for x in 1:1000\n",
    "         C[x, y] = f!(x, y)\n",
    "    end\n",
    "end"
   ]
  },
  {
   "cell_type": "code",
   "execution_count": 19,
   "metadata": {},
   "outputs": [
    {
     "name": "stdout",
     "output_type": "stream",
     "text": [
      "  7.423 ms (0 allocations: 0 bytes)\n"
     ]
    }
   ],
   "source": [
    "function test!(C)\n",
    " @turbo for y in 1:1000\n",
    "    for x in 1:1000\n",
    "         C[x, y] = f!(x, y)\n",
    "    end\n",
    "end\n",
    "end\n",
    "\n",
    "@btime test!($C)"
   ]
  },
  {
   "cell_type": "code",
   "execution_count": 22,
   "metadata": {},
   "outputs": [
    {
     "name": "stdout",
     "output_type": "stream",
     "text": [
      "  7.266 ms (0 allocations: 0 bytes)\n"
     ]
    }
   ],
   "source": [
    "function test!(C)\n",
    "  @turbo for y in 1:1000\n",
    "    for x in 1:1000\n",
    "         C[x, y] = f!(x, y)\n",
    "    end\n",
    "end\n",
    "end\n",
    "\n",
    "@btime test!($C)"
   ]
  }
 ],
 "metadata": {
  "kernelspec": {
   "display_name": "Julia 1.7.2",
   "language": "julia",
   "name": "julia-1.7"
  },
  "language_info": {
   "file_extension": ".jl",
   "mimetype": "application/julia",
   "name": "julia",
   "version": "1.7.2"
  },
  "orig_nbformat": 4
 },
 "nbformat": 4,
 "nbformat_minor": 2
}
