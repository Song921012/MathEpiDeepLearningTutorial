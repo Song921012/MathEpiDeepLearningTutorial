{
 "cells": [
  {
   "cell_type": "markdown",
   "metadata": {},
   "source": [
    "Title: julia computations benchmark\n",
    "\n",
    "# [f(x,y) for x in, y in]"
   ]
  },
  {
   "cell_type": "code",
   "execution_count": 1,
   "metadata": {},
   "outputs": [],
   "source": [
    "using BenchmarkTools"
   ]
  },
  {
   "cell_type": "code",
   "execution_count": 5,
   "metadata": {},
   "outputs": [
    {
     "name": "stdout",
     "output_type": "stream",
     "text": [
      "  52.310 ms (1978000 allocations: 30.18 MiB)\n"
     ]
    }
   ],
   "source": [
    "f!(x,y) = sin(x)+cos(y)\n",
    "C = zeros(1000,1000)\n",
    "@btime for y in 1:1000\n",
    "       for x in 1:1000\n",
    "       C[x,y] = f!(x,y)\n",
    "       end\n",
    "       end"
   ]
  },
  {
   "cell_type": "markdown",
   "metadata": {},
   "source": [
    "for x, for y (Bad choice)"
   ]
  },
  {
   "cell_type": "code",
   "execution_count": 11,
   "metadata": {},
   "outputs": [
    {
     "name": "stdout",
     "output_type": "stream",
     "text": [
      "  52.861 ms (1978000 allocations: 30.18 MiB)\n"
     ]
    }
   ],
   "source": [
    "@btime for x in 1:1000\n",
    "       for y in 1:1000\n",
    "       C[x,y] = f!(x,y)\n",
    "       end\n",
    "       end"
   ]
  },
  {
   "cell_type": "code",
   "execution_count": 6,
   "metadata": {},
   "outputs": [
    {
     "name": "stdout",
     "output_type": "stream",
     "text": [
      "  16.484 ms (1978021 allocations: 30.18 MiB)\n"
     ]
    }
   ],
   "source": [
    "@btime Threads.@threads for y in 1:1000\n",
    "       for x in 1:1000\n",
    "       C[x,y] = f!(x,y)\n",
    "       end\n",
    "       end"
   ]
  },
  {
   "cell_type": "markdown",
   "metadata": {},
   "source": [
    "Using multi threads and @inbounds"
   ]
  },
  {
   "cell_type": "code",
   "execution_count": 10,
   "metadata": {},
   "outputs": [
    {
     "name": "stdout",
     "output_type": "stream",
     "text": [
      "  14.812 ms (1978021 allocations: 30.18 MiB)\n"
     ]
    }
   ],
   "source": [
    "@btime Threads.@threads for y in 1:1000\n",
    "       for x in 1:1000\n",
    "       @inbounds C[x,y] = f!(x,y)\n",
    "       end\n",
    "       end"
   ]
  },
  {
   "cell_type": "markdown",
   "metadata": {},
   "source": [
    "using generator"
   ]
  },
  {
   "cell_type": "code",
   "execution_count": 8,
   "metadata": {},
   "outputs": [
    {
     "name": "stdout",
     "output_type": "stream",
     "text": [
      "  25.285 ms (2 allocations: 7.63 MiB)\n"
     ]
    }
   ],
   "source": [
    "@btime [f!(x,y) for x in 1:1000, y in 1:1000];"
   ]
  },
  {
   "cell_type": "code",
   "execution_count": 14,
   "metadata": {},
   "outputs": [
    {
     "name": "stdout",
     "output_type": "stream",
     "text": [
      "  7.300 ms (11 allocations: 320 bytes)\n"
     ]
    }
   ],
   "source": [
    "using LoopVectorization\n",
    "@btime @turbo for y in 1:1000\n",
    "    for x in 1:1000\n",
    "         C[x, y] = f!(x, y)\n",
    "    end\n",
    "end"
   ]
  },
  {
   "cell_type": "code",
   "execution_count": 19,
   "metadata": {},
   "outputs": [
    {
     "name": "stdout",
     "output_type": "stream",
     "text": [
      "  7.423 ms (0 allocations: 0 bytes)\n"
     ]
    }
   ],
   "source": [
    "function test!(C)\n",
    " @turbo for y in 1:1000\n",
    "    for x in 1:1000\n",
    "         C[x, y] = f!(x, y)\n",
    "    end\n",
    "end\n",
    "end\n",
    "\n",
    "@btime test!($C)"
   ]
  },
  {
   "cell_type": "code",
   "execution_count": 22,
   "metadata": {},
   "outputs": [
    {
     "name": "stdout",
     "output_type": "stream",
     "text": [
      "  7.266 ms (0 allocations: 0 bytes)\n"
     ]
    }
   ],
   "source": [
    "function test!(C)\n",
    "  @turbo for y in 1:1000\n",
    "    for x in 1:1000\n",
    "         C[x, y] = f!(x, y)\n",
    "    end\n",
    "end\n",
    "end\n",
    "\n",
    "@btime test!($C)"
   ]
  },
  {
   "cell_type": "markdown",
   "metadata": {},
   "source": [
    "# Function as inputs"
   ]
  },
  {
   "cell_type": "code",
   "execution_count": 7,
   "metadata": {},
   "outputs": [
    {
     "name": "stdout",
     "output_type": "stream",
     "text": [
      "  298.500 μs (0 allocations: 0 bytes)\n"
     ]
    }
   ],
   "source": [
    "using BenchmarkTools\n",
    "function f(x,y)\n",
    "    return  sin(x)*cos(y)\n",
    "end\n",
    "function decouple(x, y)\n",
    "   @. y = f(x, y) + exp(x) * cos(y)\n",
    "    return y\n",
    "end\n",
    "\n",
    "function couple(x,y)\n",
    "    function f1(x,y)\n",
    "        return sin(x)*cos(y)\n",
    "    end\n",
    "    @. y = f1(x,y) + exp(x)*cos(y)\n",
    "    return y\n",
    "end\n",
    "\n",
    "function inputf(f::Function,x,y)\n",
    "   @. y = f(x, y) + exp(x) * cos(y)\n",
    "end\n",
    "x = randn(100,100);\n",
    "y = randn(100,100)\n",
    "@btime decouple($x,$y);"
   ]
  },
  {
   "cell_type": "code",
   "execution_count": 9,
   "metadata": {},
   "outputs": [
    {
     "name": "stdout",
     "output_type": "stream",
     "text": [
      "  300.100 μs (0 allocations: 0 bytes)\n"
     ]
    }
   ],
   "source": [
    "@btime couple($x,$y);"
   ]
  },
  {
   "cell_type": "code",
   "execution_count": 15,
   "metadata": {},
   "outputs": [
    {
     "name": "stdout",
     "output_type": "stream",
     "text": [
      "  301.500 μs (5 allocations: 192 bytes)\n"
     ]
    }
   ],
   "source": [
    "@btime inputf(f,$x,$y);"
   ]
  },
  {
   "cell_type": "code",
   "execution_count": 17,
   "metadata": {},
   "outputs": [
    {
     "data": {
      "text/plain": [
       "CodeInfo(\n",
       "\u001b[90m1 ───\u001b[39m %1   = Core.tuple(x)\u001b[36m::Tuple{Matrix{Float64}}\u001b[39m\n",
       "\u001b[90m│    \u001b[39m %2   = %new(Base.Broadcast.Broadcasted{Base.Broadcast.DefaultArrayStyle{2}, Nothing, typeof(exp), Tuple{Matrix{Float64}}}, exp, %1, nothing)\u001b[36m::Base.Broadcast.Broadcasted{Base.Broadcast.DefaultArrayStyle{2}, Nothing, typeof(exp), Tuple{Matrix{Float64}}}\u001b[39m\n",
       "\u001b[90m│    \u001b[39m %3   = Core.tuple(y)\u001b[36m::Tuple{Matrix{Float64}}\u001b[39m\n",
       "\u001b[90m│    \u001b[39m %4   = %new(Base.Broadcast.Broadcasted{Base.Broadcast.DefaultArrayStyle{2}, Nothing, typeof(cos), Tuple{Matrix{Float64}}}, cos, %3, nothing)\u001b[36m::Base.Broadcast.Broadcasted{Base.Broadcast.DefaultArrayStyle{2}, Nothing, typeof(cos), Tuple{Matrix{Float64}}}\u001b[39m\n",
       "\u001b[90m│    \u001b[39m %5   = Core.tuple(%2, %4)\u001b[36m::Tuple{Base.Broadcast.Broadcasted{Base.Broadcast.DefaultArrayStyle{2}, Nothing, typeof(exp), Tuple{Matrix{Float64}}}, Base.Broadcast.Broadcasted{Base.Broadcast.DefaultArrayStyle{2}, Nothing, typeof(cos), Tuple{Matrix{Float64}}}}\u001b[39m\n",
       "\u001b[90m│    \u001b[39m %6   = %new(Base.Broadcast.Broadcasted{Base.Broadcast.DefaultArrayStyle{2}, Nothing, typeof(*), Tuple{Base.Broadcast.Broadcasted{Base.Broadcast.DefaultArrayStyle{2}, Nothing, typeof(exp), Tuple{Matrix{Float64}}}, Base.Broadcast.Broadcasted{Base.Broadcast.DefaultArrayStyle{2}, Nothing, typeof(cos), Tuple{Matrix{Float64}}}}}, *, %5, nothing)\u001b[36m::Base.Broadcast.Broadcasted{Base.Broadcast.DefaultArrayStyle{2}, Nothing, typeof(*), Tuple{Base.Broadcast.Broadcasted{Base.Broadcast.DefaultArrayStyle{2}, Nothing, typeof(exp), Tuple{Matrix{Float64}}}, Base.Broadcast.Broadcasted{Base.Broadcast.DefaultArrayStyle{2}, Nothing, typeof(cos), Tuple{Matrix{Float64}}}}}\u001b[39m\n",
       "\u001b[90m│    \u001b[39m %7   = Base.arraysize(y, 1)\u001b[36m::Int64\u001b[39m\n",
       "\u001b[90m│    \u001b[39m %8   = Base.arraysize(y, 2)\u001b[36m::Int64\u001b[39m\n",
       "\u001b[90m│    \u001b[39m %9   = Base.slt_int(%7, 0)\u001b[36m::Bool\u001b[39m\n",
       "\u001b[90m│    \u001b[39m %10  = Base.ifelse(%9, 0, %7)\u001b[36m::Int64\u001b[39m\n",
       "\u001b[90m│    \u001b[39m %11  = %new(Base.OneTo{Int64}, %10)\u001b[36m::Base.OneTo{Int64}\u001b[39m\n",
       "\u001b[90m│    \u001b[39m %12  = Base.slt_int(%8, 0)\u001b[36m::Bool\u001b[39m\n",
       "\u001b[90m│    \u001b[39m %13  = Base.ifelse(%12, 0, %8)\u001b[36m::Int64\u001b[39m\n",
       "\u001b[90m│    \u001b[39m %14  = %new(Base.OneTo{Int64}, %13)\u001b[36m::Base.OneTo{Int64}\u001b[39m\n",
       "\u001b[90m│    \u001b[39m %15  = Core.tuple(%11, %14)\u001b[36m::Tuple{Base.OneTo{Int64}, Base.OneTo{Int64}}\u001b[39m\n",
       "\u001b[90m│    \u001b[39m %16  = Base.arraysize(x, 1)\u001b[36m::Int64\u001b[39m\n",
       "\u001b[90m│    \u001b[39m %17  = Base.arraysize(x, 2)\u001b[36m::Int64\u001b[39m\n",
       "\u001b[90m│    \u001b[39m %18  = Base.slt_int(%16, 0)\u001b[36m::Bool\u001b[39m\n",
       "\u001b[90m│    \u001b[39m %19  = Base.ifelse(%18, 0, %16)\u001b[36m::Int64\u001b[39m\n",
       "\u001b[90m│    \u001b[39m %20  = %new(Base.OneTo{Int64}, %19)\u001b[36m::Base.OneTo{Int64}\u001b[39m\n",
       "\u001b[90m│    \u001b[39m %21  = Base.slt_int(%17, 0)\u001b[36m::Bool\u001b[39m\n",
       "\u001b[90m│    \u001b[39m %22  = Base.ifelse(%21, 0, %17)\u001b[36m::Int64\u001b[39m\n",
       "\u001b[90m│    \u001b[39m %23  = %new(Base.OneTo{Int64}, %22)\u001b[36m::Base.OneTo{Int64}\u001b[39m\n",
       "\u001b[90m│    \u001b[39m %24  = Core.tuple(%20, %23)\u001b[36m::Tuple{Base.OneTo{Int64}, Base.OneTo{Int64}}\u001b[39m\n",
       "\u001b[90m│    \u001b[39m %25  = Base.arraysize(y, 1)\u001b[36m::Int64\u001b[39m\n",
       "\u001b[90m│    \u001b[39m %26  = Base.arraysize(y, 2)\u001b[36m::Int64\u001b[39m\n",
       "\u001b[90m│    \u001b[39m %27  = Base.slt_int(%25, 0)\u001b[36m::Bool\u001b[39m\n",
       "\u001b[90m│    \u001b[39m %28  = Base.ifelse(%27, 0, %25)\u001b[36m::Int64\u001b[39m\n",
       "\u001b[90m│    \u001b[39m %29  = %new(Base.OneTo{Int64}, %28)\u001b[36m::Base.OneTo{Int64}\u001b[39m\n",
       "\u001b[90m│    \u001b[39m %30  = Base.slt_int(%26, 0)\u001b[36m::Bool\u001b[39m\n",
       "\u001b[90m│    \u001b[39m %31  = Base.ifelse(%30, 0, %26)\u001b[36m::Int64\u001b[39m\n",
       "\u001b[90m│    \u001b[39m %32  = %new(Base.OneTo{Int64}, %31)\u001b[36m::Base.OneTo{Int64}\u001b[39m\n",
       "\u001b[90m│    \u001b[39m %33  = Core.tuple(%29, %32)\u001b[36m::Tuple{Base.OneTo{Int64}, Base.OneTo{Int64}}\u001b[39m\n",
       "\u001b[90m│    \u001b[39m %34  = invoke Base.Broadcast._bcs(%24::Tuple{Base.OneTo{Int64}, Base.OneTo{Int64}}, %33::Tuple{Base.OneTo{Int64}, Base.OneTo{Int64}})\u001b[36m::Tuple{Base.OneTo{Int64}, Base.OneTo{Int64}}\u001b[39m\n",
       "\u001b[90m│    \u001b[39m %35  = Base.getfield(%34, 1, true)\u001b[36m::Base.OneTo{Int64}\u001b[39m\n",
       "\u001b[90m│    \u001b[39m %36  = Base.slt_int(%10, 1)\u001b[36m::Bool\u001b[39m\n",
       "\u001b[90m└────\u001b[39m        goto #3 if not %36\n",
       "\u001b[90m2 ───\u001b[39m %38  = Base.getfield(%35, :stop)\u001b[36m::Int64\u001b[39m\n",
       "\u001b[90m│    \u001b[39m %39  = Base.slt_int(%38, 1)\u001b[36m::Bool\u001b[39m\n",
       "\u001b[90m└────\u001b[39m        goto #6\n",
       "\u001b[90m3 ───\u001b[39m %41  = (1 === %10)\u001b[36m::Bool\u001b[39m\n",
       "\u001b[90m└────\u001b[39m        goto #5 if not %41\n",
       "\u001b[90m4 ───\u001b[39m %43  = Base.getfield(%35, :stop)\u001b[36m::Int64\u001b[39m\n",
       "\u001b[90m│    \u001b[39m %44  = (1 === %43)\u001b[36m::Bool\u001b[39m\n",
       "\u001b[90m│    \u001b[39m %45  = Base.and_int(%44, true)\u001b[36m::Bool\u001b[39m\n",
       "\u001b[90m└────\u001b[39m        goto #6\n",
       "\u001b[90m5 ───\u001b[39m %47  = Base.getfield(%35, :stop)\u001b[36m::Int64\u001b[39m\n",
       "\u001b[90m│    \u001b[39m %48  = (%10 === %47)\u001b[36m::Bool\u001b[39m\n",
       "\u001b[90m│    \u001b[39m %49  = Base.and_int(true, %48)\u001b[36m::Bool\u001b[39m\n",
       "\u001b[90m└────\u001b[39m        goto #6\n",
       "\u001b[90m6 ┄──\u001b[39m %51  = φ (#2 => %39, #4 => %45, #5 => %49)\u001b[36m::Bool\u001b[39m\n",
       "\u001b[90m└────\u001b[39m        goto #8 if not %51\n",
       "\u001b[90m7 ───\u001b[39m        goto #9\n",
       "\u001b[90m8 ───\u001b[39m %54  = Base.getfield(%35, :stop)\u001b[36m::Int64\u001b[39m\n",
       "\u001b[90m│    \u001b[39m %55  = (%54 === 1)\u001b[36m::Bool\u001b[39m\n",
       "\u001b[90m└────\u001b[39m        goto #9\n",
       "\u001b[90m9 ┄──\u001b[39m %57  = φ (#7 => %51, #8 => %55)\u001b[36m::Bool\u001b[39m\n",
       "\u001b[90m└────\u001b[39m        goto #22 if not %57\n",
       "\u001b[90m10 ──\u001b[39m %59  = Core.getfield(%34, 2)\u001b[36m::Base.OneTo{Int64}\u001b[39m\n",
       "\u001b[90m│    \u001b[39m %60  = Base.slt_int(%13, 1)\u001b[36m::Bool\u001b[39m\n",
       "\u001b[90m└────\u001b[39m        goto #12 if not %60\n",
       "\u001b[90m11 ──\u001b[39m %62  = Base.getfield(%59, :stop)\u001b[36m::Int64\u001b[39m\n",
       "\u001b[90m│    \u001b[39m %63  = Base.slt_int(%62, 1)\u001b[36m::Bool\u001b[39m\n",
       "\u001b[90m└────\u001b[39m        goto #15\n",
       "\u001b[90m12 ──\u001b[39m %65  = (1 === %13)\u001b[36m::Bool\u001b[39m\n",
       "\u001b[90m└────\u001b[39m        goto #14 if not %65\n",
       "\u001b[90m13 ──\u001b[39m %67  = Base.getfield(%59, :stop)\u001b[36m::Int64\u001b[39m\n",
       "\u001b[90m│    \u001b[39m %68  = (1 === %67)\u001b[36m::Bool\u001b[39m\n",
       "\u001b[90m│    \u001b[39m %69  = Base.and_int(%68, true)\u001b[36m::Bool\u001b[39m\n",
       "\u001b[90m└────\u001b[39m        goto #15\n",
       "\u001b[90m14 ──\u001b[39m %71  = Base.getfield(%59, :stop)\u001b[36m::Int64\u001b[39m\n",
       "\u001b[90m│    \u001b[39m %72  = (%13 === %71)\u001b[36m::Bool\u001b[39m\n",
       "\u001b[90m│    \u001b[39m %73  = Base.and_int(true, %72)\u001b[36m::Bool\u001b[39m\n",
       "\u001b[90m└────\u001b[39m        goto #15\n",
       "\u001b[90m15 ┄─\u001b[39m %75  = φ (#11 => %63, #13 => %69, #14 => %73)\u001b[36m::Bool\u001b[39m\n",
       "\u001b[90m└────\u001b[39m        goto #17 if not %75\n",
       "\u001b[90m16 ──\u001b[39m        goto #18\n",
       "\u001b[90m17 ──\u001b[39m %78  = Base.getfield(%59, :stop)\u001b[36m::Int64\u001b[39m\n",
       "\u001b[90m│    \u001b[39m %79  = (%78 === 1)\u001b[36m::Bool\u001b[39m\n",
       "\u001b[90m└────\u001b[39m        goto #18\n",
       "\u001b[90m18 ┄─\u001b[39m %81  = φ (#16 => %75, #17 => %79)\u001b[36m::Bool\u001b[39m\n",
       "\u001b[90m└────\u001b[39m        goto #20 if not %81\n",
       "\u001b[90m19 ──\u001b[39m        goto #21\n",
       "\u001b[90m20 ──\u001b[39m %84  = Base.Broadcast.DimensionMismatch(\"array could not be broadcast to match destination\")\u001b[36m::Any\u001b[39m\n",
       "\u001b[90m│    \u001b[39m        Base.Broadcast.throw(%84)\u001b[90m::Union{}\u001b[39m\n",
       "\u001b[90m└────\u001b[39m        unreachable\n",
       "\u001b[90m21 ──\u001b[39m        goto #23\n",
       "\u001b[90m22 ──\u001b[39m %88  = Base.Broadcast.DimensionMismatch(\"array could not be broadcast to match destination\")\u001b[36m::Any\u001b[39m\n",
       "\u001b[90m│    \u001b[39m        Base.Broadcast.throw(%88)\u001b[90m::Union{}\u001b[39m\n",
       "\u001b[90m└────\u001b[39m        unreachable\n",
       "\u001b[90m23 ──\u001b[39m        goto #24\n",
       "\u001b[90m24 ──\u001b[39m %92  = Base.arraysize(x, 1)\u001b[36m::Int64\u001b[39m\n",
       "\u001b[90m│    \u001b[39m %93  = Base.arraysize(x, 2)\u001b[36m::Int64\u001b[39m\n",
       "\u001b[90m│    \u001b[39m %94  = Base.slt_int(%92, 0)\u001b[36m::Bool\u001b[39m\n",
       "\u001b[90m│    \u001b[39m %95  = Base.ifelse(%94, 0, %92)\u001b[36m::Int64\u001b[39m\n",
       "\u001b[90m│    \u001b[39m %96  = %new(Base.OneTo{Int64}, %95)\u001b[36m::Base.OneTo{Int64}\u001b[39m\n",
       "\u001b[90m│    \u001b[39m %97  = Base.slt_int(%93, 0)\u001b[36m::Bool\u001b[39m\n",
       "\u001b[90m│    \u001b[39m %98  = Base.ifelse(%97, 0, %93)\u001b[36m::Int64\u001b[39m\n",
       "\u001b[90m│    \u001b[39m %99  = %new(Base.OneTo{Int64}, %98)\u001b[36m::Base.OneTo{Int64}\u001b[39m\n",
       "\u001b[90m│    \u001b[39m %100 = Core.tuple(%96, %99)\u001b[36m::Tuple{Base.OneTo{Int64}, Base.OneTo{Int64}}\u001b[39m\n",
       "\u001b[90m│    \u001b[39m %101 = Base.arraysize(y, 1)\u001b[36m::Int64\u001b[39m\n",
       "\u001b[90m│    \u001b[39m %102 = Base.arraysize(y, 2)\u001b[36m::Int64\u001b[39m\n",
       "\u001b[90m│    \u001b[39m %103 = Base.slt_int(%101, 0)\u001b[36m::Bool\u001b[39m\n",
       "\u001b[90m│    \u001b[39m %104 = Base.ifelse(%103, 0, %101)\u001b[36m::Int64\u001b[39m\n",
       "\u001b[90m│    \u001b[39m %105 = %new(Base.OneTo{Int64}, %104)\u001b[36m::Base.OneTo{Int64}\u001b[39m\n",
       "\u001b[90m│    \u001b[39m %106 = Base.slt_int(%102, 0)\u001b[36m::Bool\u001b[39m\n",
       "\u001b[90m│    \u001b[39m %107 = Base.ifelse(%106, 0, %102)\u001b[36m::Int64\u001b[39m\n",
       "\u001b[90m│    \u001b[39m %108 = %new(Base.OneTo{Int64}, %107)\u001b[36m::Base.OneTo{Int64}\u001b[39m\n",
       "\u001b[90m│    \u001b[39m %109 = Core.tuple(%105, %108)\u001b[36m::Tuple{Base.OneTo{Int64}, Base.OneTo{Int64}}\u001b[39m\n",
       "\u001b[90m│    \u001b[39m %110 = invoke Base.Broadcast._bcs(%100::Tuple{Base.OneTo{Int64}, Base.OneTo{Int64}}, %109::Tuple{Base.OneTo{Int64}, Base.OneTo{Int64}})\u001b[36m::Tuple{Base.OneTo{Int64}, Base.OneTo{Int64}}\u001b[39m\n",
       "\u001b[90m│    \u001b[39m %111 = Base.getfield(%110, 1, true)\u001b[36m::Base.OneTo{Int64}\u001b[39m\n",
       "\u001b[90m│    \u001b[39m %112 = Base.slt_int(%10, 1)\u001b[36m::Bool\u001b[39m\n",
       "\u001b[90m└────\u001b[39m        goto #26 if not %112\n",
       "\u001b[90m25 ──\u001b[39m %114 = Base.getfield(%111, :stop)\u001b[36m::Int64\u001b[39m\n",
       "\u001b[90m│    \u001b[39m %115 = Base.slt_int(%114, 1)\u001b[36m::Bool\u001b[39m\n",
       "\u001b[90m└────\u001b[39m        goto #29\n",
       "\u001b[90m26 ──\u001b[39m %117 = (1 === %10)\u001b[36m::Bool\u001b[39m\n",
       "\u001b[90m└────\u001b[39m        goto #28 if not %117\n",
       "\u001b[90m27 ──\u001b[39m %119 = Base.getfield(%111, :stop)\u001b[36m::Int64\u001b[39m\n",
       "\u001b[90m│    \u001b[39m %120 = (1 === %119)\u001b[36m::Bool\u001b[39m\n",
       "\u001b[90m│    \u001b[39m %121 = Base.and_int(%120, true)\u001b[36m::Bool\u001b[39m\n",
       "\u001b[90m└────\u001b[39m        goto #29\n",
       "\u001b[90m28 ──\u001b[39m %123 = Base.getfield(%111, :stop)\u001b[36m::Int64\u001b[39m\n",
       "\u001b[90m│    \u001b[39m %124 = (%10 === %123)\u001b[36m::Bool\u001b[39m\n",
       "\u001b[90m│    \u001b[39m %125 = Base.and_int(true, %124)\u001b[36m::Bool\u001b[39m\n",
       "\u001b[90m└────\u001b[39m        goto #29\n",
       "\u001b[90m29 ┄─\u001b[39m %127 = φ (#25 => %115, #27 => %121, #28 => %125)\u001b[36m::Bool\u001b[39m\n",
       "\u001b[90m└────\u001b[39m        goto #31 if not %127\n",
       "\u001b[90m30 ──\u001b[39m        goto #32\n",
       "\u001b[90m31 ──\u001b[39m %130 = Base.getfield(%111, :stop)\u001b[36m::Int64\u001b[39m\n",
       "\u001b[90m│    \u001b[39m %131 = (%130 === 1)\u001b[36m::Bool\u001b[39m\n",
       "\u001b[90m└────\u001b[39m        goto #32\n",
       "\u001b[90m32 ┄─\u001b[39m %133 = φ (#30 => %127, #31 => %131)\u001b[36m::Bool\u001b[39m\n",
       "\u001b[90m└────\u001b[39m        goto #45 if not %133\n",
       "\u001b[90m33 ──\u001b[39m %135 = Core.getfield(%110, 2)\u001b[36m::Base.OneTo{Int64}\u001b[39m\n",
       "\u001b[90m│    \u001b[39m %136 = Base.slt_int(%13, 1)\u001b[36m::Bool\u001b[39m\n",
       "\u001b[90m└────\u001b[39m        goto #35 if not %136\n",
       "\u001b[90m34 ──\u001b[39m %138 = Base.getfield(%135, :stop)\u001b[36m::Int64\u001b[39m\n",
       "\u001b[90m│    \u001b[39m %139 = Base.slt_int(%138, 1)\u001b[36m::Bool\u001b[39m\n",
       "\u001b[90m└────\u001b[39m        goto #38\n",
       "\u001b[90m35 ──\u001b[39m %141 = (1 === %13)\u001b[36m::Bool\u001b[39m\n",
       "\u001b[90m└────\u001b[39m        goto #37 if not %141\n",
       "\u001b[90m36 ──\u001b[39m %143 = Base.getfield(%135, :stop)\u001b[36m::Int64\u001b[39m\n",
       "\u001b[90m│    \u001b[39m %144 = (1 === %143)\u001b[36m::Bool\u001b[39m\n",
       "\u001b[90m│    \u001b[39m %145 = Base.and_int(%144, true)\u001b[36m::Bool\u001b[39m\n",
       "\u001b[90m└────\u001b[39m        goto #38\n",
       "\u001b[90m37 ──\u001b[39m %147 = Base.getfield(%135, :stop)\u001b[36m::Int64\u001b[39m\n",
       "\u001b[90m│    \u001b[39m %148 = (%13 === %147)\u001b[36m::Bool\u001b[39m\n",
       "\u001b[90m│    \u001b[39m %149 = Base.and_int(true, %148)\u001b[36m::Bool\u001b[39m\n",
       "\u001b[90m└────\u001b[39m        goto #38\n",
       "\u001b[90m38 ┄─\u001b[39m %151 = φ (#34 => %139, #36 => %145, #37 => %149)\u001b[36m::Bool\u001b[39m\n",
       "\u001b[90m└────\u001b[39m        goto #40 if not %151\n",
       "\u001b[90m39 ──\u001b[39m        goto #41\n",
       "\u001b[90m40 ──\u001b[39m %154 = Base.getfield(%135, :stop)\u001b[36m::Int64\u001b[39m\n",
       "\u001b[90m│    \u001b[39m %155 = (%154 === 1)\u001b[36m::Bool\u001b[39m\n",
       "\u001b[90m└────\u001b[39m        goto #41\n",
       "\u001b[90m41 ┄─\u001b[39m %157 = φ (#39 => %151, #40 => %155)\u001b[36m::Bool\u001b[39m\n",
       "\u001b[90m└────\u001b[39m        goto #43 if not %157\n",
       "\u001b[90m42 ──\u001b[39m        goto #44\n",
       "\u001b[90m43 ──\u001b[39m %160 = Base.Broadcast.DimensionMismatch(\"array could not be broadcast to match destination\")\u001b[36m::Any\u001b[39m\n",
       "\u001b[90m│    \u001b[39m        Base.Broadcast.throw(%160)\u001b[90m::Union{}\u001b[39m\n",
       "\u001b[90m└────\u001b[39m        unreachable\n",
       "\u001b[90m44 ──\u001b[39m        goto #46\n",
       "\u001b[90m45 ──\u001b[39m %164 = Base.Broadcast.DimensionMismatch(\"array could not be broadcast to match destination\")\u001b[36m::Any\u001b[39m\n",
       "\u001b[90m│    \u001b[39m        Base.Broadcast.throw(%164)\u001b[90m::Union{}\u001b[39m\n",
       "\u001b[90m└────\u001b[39m        unreachable\n",
       "\u001b[90m46 ──\u001b[39m        goto #47\n",
       "\u001b[90m47 ──\u001b[39m        goto #48\n",
       "\u001b[90m48 ──\u001b[39m        goto #49\n",
       "\u001b[90m49 ──\u001b[39m %170 = Base.arraysize(y, 1)\u001b[36m::Int64\u001b[39m\n",
       "\u001b[90m│    \u001b[39m %171 = Base.arraysize(y, 2)\u001b[36m::Int64\u001b[39m\n",
       "\u001b[90m│    \u001b[39m %172 = Base.slt_int(%170, 0)\u001b[36m::Bool\u001b[39m\n",
       "\u001b[90m│    \u001b[39m %173 = Base.ifelse(%172, 0, %170)\u001b[36m::Int64\u001b[39m\n",
       "\u001b[90m│    \u001b[39m %174 = Base.slt_int(%171, 0)\u001b[36m::Bool\u001b[39m\n",
       "\u001b[90m│    \u001b[39m %175 = Base.ifelse(%174, 0, %171)\u001b[36m::Int64\u001b[39m\n",
       "\u001b[90m│    \u001b[39m %176 = Base.slt_int(%173, 1)\u001b[36m::Bool\u001b[39m\n",
       "\u001b[90m└────\u001b[39m        goto #51 if not %176\n",
       "\u001b[90m50 ──\u001b[39m %178 = Base.slt_int(%10, 1)\u001b[36m::Bool\u001b[39m\n",
       "\u001b[90m└────\u001b[39m        goto #54\n",
       "\u001b[90m51 ──\u001b[39m %180 = (1 === %173)\u001b[36m::Bool\u001b[39m\n",
       "\u001b[90m└────\u001b[39m        goto #53 if not %180\n",
       "\u001b[90m52 ──\u001b[39m %182 = (1 === %10)\u001b[36m::Bool\u001b[39m\n",
       "\u001b[90m│    \u001b[39m %183 = Base.and_int(%182, true)\u001b[36m::Bool\u001b[39m\n",
       "\u001b[90m└────\u001b[39m        goto #54\n",
       "\u001b[90m53 ──\u001b[39m %185 = (%173 === %10)\u001b[36m::Bool\u001b[39m\n",
       "\u001b[90m│    \u001b[39m %186 = Base.and_int(true, %185)\u001b[36m::Bool\u001b[39m\n",
       "\u001b[90m└────\u001b[39m        goto #54\n",
       "\u001b[90m54 ┄─\u001b[39m %188 = φ (#50 => %178, #52 => %183, #53 => %186)\u001b[36m::Bool\u001b[39m\n",
       "\u001b[90m│    \u001b[39m %189 = (%188 === false)\u001b[36m::Bool\u001b[39m\n",
       "\u001b[90m└────\u001b[39m        goto #56 if not %189\n",
       "\u001b[90m55 ──\u001b[39m        goto #65\n",
       "\u001b[90m56 ──\u001b[39m %192 = Base.slt_int(%175, 1)\u001b[36m::Bool\u001b[39m\n",
       "\u001b[90m└────\u001b[39m        goto #58 if not %192\n",
       "\u001b[90m57 ──\u001b[39m %194 = Base.slt_int(%13, 1)\u001b[36m::Bool\u001b[39m\n",
       "\u001b[90m└────\u001b[39m        goto #61\n",
       "\u001b[90m58 ──\u001b[39m %196 = (1 === %175)\u001b[36m::Bool\u001b[39m\n",
       "\u001b[90m└────\u001b[39m        goto #60 if not %196\n",
       "\u001b[90m59 ──\u001b[39m %198 = (1 === %13)\u001b[36m::Bool\u001b[39m\n",
       "\u001b[90m│    \u001b[39m %199 = Base.and_int(%198, true)\u001b[36m::Bool\u001b[39m\n",
       "\u001b[90m└────\u001b[39m        goto #61\n",
       "\u001b[90m60 ──\u001b[39m %201 = (%175 === %13)\u001b[36m::Bool\u001b[39m\n",
       "\u001b[90m│    \u001b[39m %202 = Base.and_int(true, %201)\u001b[36m::Bool\u001b[39m\n",
       "\u001b[90m└────\u001b[39m        goto #61\n",
       "\u001b[90m61 ┄─\u001b[39m %204 = φ (#57 => %194, #59 => %199, #60 => %202)\u001b[36m::Bool\u001b[39m\n",
       "\u001b[90m│    \u001b[39m %205 = (%204 === false)\u001b[36m::Bool\u001b[39m\n",
       "\u001b[90m└────\u001b[39m        goto #63 if not %205\n",
       "\u001b[90m62 ──\u001b[39m        goto #64\n",
       "\u001b[90m63 ──\u001b[39m        goto #64\n",
       "\u001b[90m64 ┄─\u001b[39m %209 = φ (#62 => false, #63 => true)\u001b[36m::Bool\u001b[39m\n",
       "\u001b[90m└────\u001b[39m        goto #65\n",
       "\u001b[90m65 ┄─\u001b[39m %211 = φ (#55 => false, #64 => %209)\u001b[36m::Bool\u001b[39m\n",
       "\u001b[90m└────\u001b[39m        goto #66\n",
       "\u001b[90m66 ──\u001b[39m        goto #126 if not %211\n",
       "\u001b[90m67 ──\u001b[39m %214 = (y === x)\u001b[36m::Bool\u001b[39m\n",
       "\u001b[90m└────\u001b[39m        goto #69 if not %214\n",
       "\u001b[90m68 ──\u001b[39m        goto #78\n",
       "\u001b[90m69 ──\u001b[39m %217 = Base.getfield(Matrix{Float64}, :flags)\u001b[36m::UInt8\u001b[39m\n",
       "\u001b[90m│    \u001b[39m %218 = Base.and_int(%217, 0x08)\u001b[36m::UInt8\u001b[39m\n",
       "\u001b[90m│    \u001b[39m %219 = (%218 === 0x08)\u001b[36m::Bool\u001b[39m\n",
       "\u001b[90m│    \u001b[39m %220 = Base.not_int(%219)\u001b[36m::Bool\u001b[39m\n",
       "\u001b[90m└────\u001b[39m        goto #73 if not %220\n",
       "\u001b[90m70 ──\u001b[39m %222 = Base.getfield(Matrix{Float64}, :flags)\u001b[36m::UInt8\u001b[39m\n",
       "\u001b[90m│    \u001b[39m %223 = Base.and_int(%222, 0x08)\u001b[36m::UInt8\u001b[39m\n",
       "\u001b[90m│    \u001b[39m %224 = (%223 === 0x08)\u001b[36m::Bool\u001b[39m\n",
       "\u001b[90m│    \u001b[39m %225 = Base.not_int(%224)\u001b[36m::Bool\u001b[39m\n",
       "\u001b[90m└────\u001b[39m        goto #72 if not %225\n",
       "\u001b[90m71 ──\u001b[39m %227 = $(Expr(:foreigncall, :(:jl_array_ptr), Ptr{Float64}, svec(Any), 0, :(:ccall), Core.Argument(4)))\u001b[36m::Ptr{Float64}\u001b[39m\n",
       "\u001b[90m│    \u001b[39m %228 = Core.bitcast(Core.UInt, %227)\u001b[36m::UInt64\u001b[39m\n",
       "\u001b[90m│    \u001b[39m %229 = $(Expr(:foreigncall, :(:jl_array_ptr), Ptr{Float64}, svec(Any), 0, :(:ccall), Core.Argument(3)))\u001b[36m::Ptr{Float64}\u001b[39m\n",
       "\u001b[90m│    \u001b[39m %230 = Core.bitcast(Core.UInt, %229)\u001b[36m::UInt64\u001b[39m\n",
       "\u001b[90m│    \u001b[39m %231 = (%228 === %230)\u001b[36m::Bool\u001b[39m\n",
       "\u001b[90m│    \u001b[39m %232 = Base.not_int(%231)\u001b[36m::Bool\u001b[39m\n",
       "\u001b[90m│    \u001b[39m %233 = Base.not_int(%232)\u001b[36m::Bool\u001b[39m\n",
       "\u001b[90m└────\u001b[39m        goto #74\n",
       "\u001b[90m72 ──\u001b[39m        goto #74\n",
       "\u001b[90m73 ──\u001b[39m        goto #74\n",
       "\u001b[90m74 ┄─\u001b[39m %237 = φ (#71 => %233, #72 => false, #73 => false)\u001b[36m::Bool\u001b[39m\n",
       "\u001b[90m└────\u001b[39m        goto #76 if not %237\n",
       "\u001b[90m75 ──\u001b[39m %239 = $(Expr(:foreigncall, :(:jl_array_copy), Ref{Matrix{Float64}}, svec(Any), 0, :(:ccall), Core.Argument(3)))\u001b[36m::Matrix{Float64}\u001b[39m\n",
       "\u001b[90m└────\u001b[39m        goto #77\n",
       "\u001b[90m76 ──\u001b[39m        goto #77\n",
       "\u001b[90m77 ┄─\u001b[39m %242 = φ (#75 => %239, #76 => x)\u001b[36m::Matrix{Float64}\u001b[39m\n",
       "\u001b[90m└────\u001b[39m        goto #78\n",
       "\u001b[90m78 ┄─\u001b[39m %244 = φ (#68 => x, #77 => %242)\u001b[36m::Matrix{Float64}\u001b[39m\n",
       "\u001b[90m│    \u001b[39m %245 = Base.arraysize(%244, 1)\u001b[36m::Int64\u001b[39m\n",
       "\u001b[90m│    \u001b[39m %246 = Base.arraysize(%244, 2)\u001b[36m::Int64\u001b[39m\n",
       "\u001b[90m│    \u001b[39m %247 = Base.slt_int(%245, 0)\u001b[36m::Bool\u001b[39m\n",
       "\u001b[90m│    \u001b[39m %248 = Base.ifelse(%247, 0, %245)\u001b[36m::Int64\u001b[39m\n",
       "\u001b[90m│    \u001b[39m %249 = Base.slt_int(%246, 0)\u001b[36m::Bool\u001b[39m\n",
       "\u001b[90m│    \u001b[39m %250 = Base.ifelse(%249, 0, %246)\u001b[36m::Int64\u001b[39m\n",
       "\u001b[90m│    \u001b[39m %251 = (%250 === 1)\u001b[36m::Bool\u001b[39m\n",
       "\u001b[90m│    \u001b[39m %252 = Base.not_int(%251)\u001b[36m::Bool\u001b[39m\n",
       "\u001b[90m│    \u001b[39m %253 = (%248 === 1)\u001b[36m::Bool\u001b[39m\n",
       "\u001b[90m│    \u001b[39m %254 = Base.not_int(%253)\u001b[36m::Bool\u001b[39m\n",
       "\u001b[90m│    \u001b[39m %255 = Core.tuple(%254, %252)\u001b[36m::Tuple{Bool, Bool}\u001b[39m\n",
       "\u001b[90m│    \u001b[39m %256 = %new(Base.Broadcast.Extruded{Matrix{Float64}, Tuple{Bool, Bool}, Tuple{Int64, Int64}}, %244, %255, (1, 1))\u001b[36m::Base.Broadcast.Extruded{Matrix{Float64}, Tuple{Bool, Bool}, Tuple{Int64, Int64}}\u001b[39m\n",
       "\u001b[90m└────\u001b[39m        goto #79\n",
       "\u001b[90m79 ──\u001b[39m %258 = (y === y)\u001b[36m::Bool\u001b[39m\n",
       "\u001b[90m└────\u001b[39m        goto #81 if not %258\n",
       "\u001b[90m80 ──\u001b[39m        goto #90\n",
       "\u001b[90m81 ──\u001b[39m %261 = Base.getfield(Matrix{Float64}, :flags)\u001b[36m::UInt8\u001b[39m\n",
       "\u001b[90m│    \u001b[39m %262 = Base.and_int(%261, 0x08)\u001b[36m::UInt8\u001b[39m\n",
       "\u001b[90m│    \u001b[39m %263 = (%262 === 0x08)\u001b[36m::Bool\u001b[39m\n",
       "\u001b[90m│    \u001b[39m %264 = Base.not_int(%263)\u001b[36m::Bool\u001b[39m\n",
       "\u001b[90m└────\u001b[39m        goto #85 if not %264\n",
       "\u001b[90m82 ──\u001b[39m %266 = Base.getfield(Matrix{Float64}, :flags)\u001b[36m::UInt8\u001b[39m\n",
       "\u001b[90m│    \u001b[39m %267 = Base.and_int(%266, 0x08)\u001b[36m::UInt8\u001b[39m\n",
       "\u001b[90m│    \u001b[39m %268 = (%267 === 0x08)\u001b[36m::Bool\u001b[39m\n",
       "\u001b[90m│    \u001b[39m %269 = Base.not_int(%268)\u001b[36m::Bool\u001b[39m\n",
       "\u001b[90m└────\u001b[39m        goto #84 if not %269\n",
       "\u001b[90m83 ──\u001b[39m %271 = $(Expr(:foreigncall, :(:jl_array_ptr), Ptr{Float64}, svec(Any), 0, :(:ccall), Core.Argument(4)))\u001b[36m::Ptr{Float64}\u001b[39m\n",
       "\u001b[90m│    \u001b[39m %272 = Core.bitcast(Core.UInt, %271)\u001b[36m::UInt64\u001b[39m\n",
       "\u001b[90m│    \u001b[39m %273 = $(Expr(:foreigncall, :(:jl_array_ptr), Ptr{Float64}, svec(Any), 0, :(:ccall), Core.Argument(4)))\u001b[36m::Ptr{Float64}\u001b[39m\n",
       "\u001b[90m│    \u001b[39m %274 = Core.bitcast(Core.UInt, %273)\u001b[36m::UInt64\u001b[39m\n",
       "\u001b[90m│    \u001b[39m %275 = (%272 === %274)\u001b[36m::Bool\u001b[39m\n",
       "\u001b[90m│    \u001b[39m %276 = Base.not_int(%275)\u001b[36m::Bool\u001b[39m\n",
       "\u001b[90m│    \u001b[39m %277 = Base.not_int(%276)\u001b[36m::Bool\u001b[39m\n",
       "\u001b[90m└────\u001b[39m        goto #86\n",
       "\u001b[90m84 ──\u001b[39m        goto #86\n",
       "\u001b[90m85 ──\u001b[39m        goto #86\n",
       "\u001b[90m86 ┄─\u001b[39m %281 = φ (#83 => %277, #84 => false, #85 => false)\u001b[36m::Bool\u001b[39m\n",
       "\u001b[90m└────\u001b[39m        goto #88 if not %281\n",
       "\u001b[90m87 ──\u001b[39m %283 = $(Expr(:foreigncall, :(:jl_array_copy), Ref{Matrix{Float64}}, svec(Any), 0, :(:ccall), Core.Argument(4)))\u001b[36m::Matrix{Float64}\u001b[39m\n",
       "\u001b[90m└────\u001b[39m        goto #89\n",
       "\u001b[90m88 ──\u001b[39m        goto #89\n",
       "\u001b[90m89 ┄─\u001b[39m %286 = φ (#87 => %283, #88 => y)\u001b[36m::Matrix{Float64}\u001b[39m\n",
       "\u001b[90m└────\u001b[39m        goto #90\n",
       "\u001b[90m90 ┄─\u001b[39m %288 = φ (#80 => y, #89 => %286)\u001b[36m::Matrix{Float64}\u001b[39m\n",
       "\u001b[90m│    \u001b[39m %289 = Base.arraysize(%288, 1)\u001b[36m::Int64\u001b[39m\n",
       "\u001b[90m│    \u001b[39m %290 = Base.arraysize(%288, 2)\u001b[36m::Int64\u001b[39m\n",
       "\u001b[90m│    \u001b[39m %291 = Base.slt_int(%289, 0)\u001b[36m::Bool\u001b[39m\n",
       "\u001b[90m│    \u001b[39m %292 = Base.ifelse(%291, 0, %289)\u001b[36m::Int64\u001b[39m\n",
       "\u001b[90m│    \u001b[39m %293 = Base.slt_int(%290, 0)\u001b[36m::Bool\u001b[39m\n",
       "\u001b[90m│    \u001b[39m %294 = Base.ifelse(%293, 0, %290)\u001b[36m::Int64\u001b[39m\n",
       "\u001b[90m│    \u001b[39m %295 = (%294 === 1)\u001b[36m::Bool\u001b[39m\n",
       "\u001b[90m│    \u001b[39m %296 = Base.not_int(%295)\u001b[36m::Bool\u001b[39m\n",
       "\u001b[90m│    \u001b[39m %297 = (%292 === 1)\u001b[36m::Bool\u001b[39m\n",
       "\u001b[90m│    \u001b[39m %298 = Base.not_int(%297)\u001b[36m::Bool\u001b[39m\n",
       "\u001b[90m│    \u001b[39m %299 = Core.tuple(%298, %296)\u001b[36m::Tuple{Bool, Bool}\u001b[39m\n",
       "\u001b[90m│    \u001b[39m %300 = %new(Base.Broadcast.Extruded{Matrix{Float64}, Tuple{Bool, Bool}, Tuple{Int64, Int64}}, %288, %299, (1, 1))\u001b[36m::Base.Broadcast.Extruded{Matrix{Float64}, Tuple{Bool, Bool}, Tuple{Int64, Int64}}\u001b[39m\n",
       "\u001b[90m└────\u001b[39m        goto #91\n",
       "\u001b[90m91 ──\u001b[39m        goto #92\n",
       "\u001b[90m92 ──\u001b[39m %303 = Core.tuple(%256, %300)\u001b[36m::Tuple{Base.Broadcast.Extruded{Matrix{Float64}, Tuple{Bool, Bool}, Tuple{Int64, Int64}}, Base.Broadcast.Extruded{Matrix{Float64}, Tuple{Bool, Bool}, Tuple{Int64, Int64}}}\u001b[39m\n",
       "\u001b[90m└────\u001b[39m        goto #93\n",
       "\u001b[90m93 ──\u001b[39m %305 = %new(Base.Broadcast.Broadcasted{Base.Broadcast.DefaultArrayStyle{2}, Nothing, typeof(f), Tuple{Base.Broadcast.Extruded{Matrix{Float64}, Tuple{Bool, Bool}, Tuple{Int64, Int64}}, Base.Broadcast.Extruded{Matrix{Float64}, Tuple{Bool, Bool}, Tuple{Int64, Int64}}}}, f, %303, nothing)\u001b[36m::Base.Broadcast.Broadcasted{Base.Broadcast.DefaultArrayStyle{2}, Nothing, typeof(f), Tuple{Base.Broadcast.Extruded{Matrix{Float64}, Tuple{Bool, Bool}, Tuple{Int64, Int64}}, Base.Broadcast.Extruded{Matrix{Float64}, Tuple{Bool, Bool}, Tuple{Int64, Int64}}}}\u001b[39m\n",
       "\u001b[90m└────\u001b[39m        goto #94\n",
       "\u001b[90m94 ──\u001b[39m %307 = Core.tuple(%6)\u001b[36m::Tuple{Base.Broadcast.Broadcasted{Base.Broadcast.DefaultArrayStyle{2}, Nothing, typeof(*), Tuple{Base.Broadcast.Broadcasted{Base.Broadcast.DefaultArrayStyle{2}, Nothing, typeof(exp), Tuple{Matrix{Float64}}}, Base.Broadcast.Broadcasted{Base.Broadcast.DefaultArrayStyle{2}, Nothing, typeof(cos), Tuple{Matrix{Float64}}}}}}\u001b[39m\n",
       "\u001b[90m│    \u001b[39m %308 = invoke Base.Broadcast.preprocess_args(y::Matrix{Float64}, %307::Tuple{Base.Broadcast.Broadcasted{Base.Broadcast.DefaultArrayStyle{2}, Nothing, typeof(*), Tuple{Base.Broadcast.Broadcasted{Base.Broadcast.DefaultArrayStyle{2}, Nothing, typeof(exp), Tuple{Matrix{Float64}}}, Base.Broadcast.Broadcasted{Base.Broadcast.DefaultArrayStyle{2}, Nothing, typeof(cos), Tuple{Matrix{Float64}}}}}})\u001b[36m::Tuple{Base.Broadcast.Broadcasted{Base.Broadcast.DefaultArrayStyle{2}, Nothing, typeof(*), Tuple{Base.Broadcast.Broadcasted{Base.Broadcast.DefaultArrayStyle{2}, Nothing, typeof(exp), Tuple{Base.Broadcast.Extruded{Matrix{Float64}, Tuple{Bool, Bool}, Tuple{Int64, Int64}}}}, Base.Broadcast.Broadcasted{Base.Broadcast.DefaultArrayStyle{2}, Nothing, typeof(cos), Tuple{Base.Broadcast.Extruded{Matrix{Float64}, Tuple{Bool, Bool}, Tuple{Int64, Int64}}}}}}}\u001b[39m\n",
       "\u001b[90m│    \u001b[39m %309 = Core.getfield(%308, 1)\u001b[36m::Base.Broadcast.Broadcasted{Base.Broadcast.DefaultArrayStyle{2}, Nothing, typeof(*), Tuple{Base.Broadcast.Broadcasted{Base.Broadcast.DefaultArrayStyle{2}, Nothing, typeof(exp), Tuple{Base.Broadcast.Extruded{Matrix{Float64}, Tuple{Bool, Bool}, Tuple{Int64, Int64}}}}, Base.Broadcast.Broadcasted{Base.Broadcast.DefaultArrayStyle{2}, Nothing, typeof(cos), Tuple{Base.Broadcast.Extruded{Matrix{Float64}, Tuple{Bool, Bool}, Tuple{Int64, Int64}}}}}}\u001b[39m\n",
       "\u001b[90m│    \u001b[39m %310 = Core.tuple(%305, %309)\u001b[36m::Tuple{Base.Broadcast.Broadcasted{Base.Broadcast.DefaultArrayStyle{2}, Nothing, typeof(f), Tuple{Base.Broadcast.Extruded{Matrix{Float64}, Tuple{Bool, Bool}, Tuple{Int64, Int64}}, Base.Broadcast.Extruded{Matrix{Float64}, Tuple{Bool, Bool}, Tuple{Int64, Int64}}}}, Base.Broadcast.Broadcasted{Base.Broadcast.DefaultArrayStyle{2}, Nothing, typeof(*), Tuple{Base.Broadcast.Broadcasted{Base.Broadcast.DefaultArrayStyle{2}, Nothing, typeof(exp), Tuple{Base.Broadcast.Extruded{Matrix{Float64}, Tuple{Bool, Bool}, Tuple{Int64, Int64}}}}, Base.Broadcast.Broadcasted{Base.Broadcast.DefaultArrayStyle{2}, Nothing, typeof(cos), Tuple{Base.Broadcast.Extruded{Matrix{Float64}, Tuple{Bool, Bool}, Tuple{Int64, Int64}}}}}}}\u001b[39m\n",
       "\u001b[90m└────\u001b[39m        goto #95\n",
       "\u001b[90m95 ──\u001b[39m %312 = %new(Base.Broadcast.Broadcasted{Nothing, Tuple{Base.OneTo{Int64}, Base.OneTo{Int64}}, typeof(+), Tuple{Base.Broadcast.Broadcasted{Base.Broadcast.DefaultArrayStyle{2}, Nothing, typeof(f), Tuple{Base.Broadcast.Extruded{Matrix{Float64}, Tuple{Bool, Bool}, Tuple{Int64, Int64}}, Base.Broadcast.Extruded{Matrix{Float64}, Tuple{Bool, Bool}, Tuple{Int64, Int64}}}}, Base.Broadcast.Broadcasted{Base.Broadcast.DefaultArrayStyle{2}, Nothing, typeof(*), Tuple{Base.Broadcast.Broadcasted{Base.Broadcast.DefaultArrayStyle{2}, Nothing, typeof(exp), Tuple{Base.Broadcast.Extruded{Matrix{Float64}, Tuple{Bool, Bool}, Tuple{Int64, Int64}}}}, Base.Broadcast.Broadcasted{Base.Broadcast.DefaultArrayStyle{2}, Nothing, typeof(cos), Tuple{Base.Broadcast.Extruded{Matrix{Float64}, Tuple{Bool, Bool}, Tuple{Int64, Int64}}}}}}}}, +, %310, %15)\u001b[36m::Base.Broadcast.Broadcasted{Nothing, Tuple{Base.OneTo{Int64}, Base.OneTo{Int64}}, typeof(+), Tuple{Base.Broadcast.Broadcasted{Base.Broadcast.DefaultArrayStyle{2}, Nothing, typeof(f), Tuple{Base.Broadcast.Extruded{Matrix{Float64}, Tuple{Bool, Bool}, Tuple{Int64, Int64}}, Base.Broadcast.Extruded{Matrix{Float64}, Tuple{Bool, Bool}, Tuple{Int64, Int64}}}}, Base.Broadcast.Broadcasted{Base.Broadcast.DefaultArrayStyle{2}, Nothing, typeof(*), Tuple{Base.Broadcast.Broadcasted{Base.Broadcast.DefaultArrayStyle{2}, Nothing, typeof(exp), Tuple{Base.Broadcast.Extruded{Matrix{Float64}, Tuple{Bool, Bool}, Tuple{Int64, Int64}}}}, Base.Broadcast.Broadcasted{Base.Broadcast.DefaultArrayStyle{2}, Nothing, typeof(cos), Tuple{Base.Broadcast.Extruded{Matrix{Float64}, Tuple{Bool, Bool}, Tuple{Int64, Int64}}}}}}}}\u001b[39m\n",
       "\u001b[90m└────\u001b[39m        goto #96\n",
       "\u001b[90m96 ──\u001b[39m %314 = Base.sle_int(1, %13)\u001b[36m::Bool\u001b[39m\n",
       "\u001b[90m│    \u001b[39m %315 = Base.and_int(true, %314)\u001b[36m::Bool\u001b[39m\n",
       "\u001b[90m│    \u001b[39m %316 = Base.not_int(%315)\u001b[36m::Bool\u001b[39m\n",
       "\u001b[90m└────\u001b[39m        goto #98 if not %316\n",
       "\u001b[90m97 ──\u001b[39m        Base.IteratorsMD.nothing\u001b[90m::Nothing\u001b[39m\n",
       "\u001b[90m└────\u001b[39m        goto #99\n",
       "\u001b[90m98 ──\u001b[39m        goto #99\n",
       "\u001b[90m99 ┄─\u001b[39m %321 = φ (#97 => true, #98 => false)\u001b[36m::Bool\u001b[39m\n",
       "\u001b[90m│    \u001b[39m %322 = φ (#98 => 1)\u001b[36m::Int64\u001b[39m\n",
       "\u001b[90m│    \u001b[39m %323 = φ (#98 => 1)\u001b[36m::Int64\u001b[39m\n",
       "\u001b[90m│    \u001b[39m %324 = φ (#98 => 1)\u001b[36m::Int64\u001b[39m\n",
       "\u001b[90m│    \u001b[39m %325 = Base.not_int(%321)\u001b[36m::Bool\u001b[39m\n",
       "\u001b[90m└────\u001b[39m        goto #125 if not %325\n",
       "\u001b[90m100 ┄\u001b[39m %327 = φ (#99 => %322, #124 => %419)\u001b[36m::Int64\u001b[39m\n",
       "\u001b[90m│    \u001b[39m %328 = φ (#99 => %323, #124 => %420)\u001b[36m::Int64\u001b[39m\n",
       "\u001b[90m│    \u001b[39m %329 = φ (#99 => %324, #124 => %421)\u001b[36m::Int64\u001b[39m\n",
       "\u001b[90m│    \u001b[39m %330 = Base.slt_int(0, %10)\u001b[36m::Bool\u001b[39m\n",
       "\u001b[90m└────\u001b[39m        goto #116 if not %330\n",
       "\u001b[90m101 ─\u001b[39m        nothing\u001b[90m::Nothing\u001b[39m\n",
       "\u001b[90m102 ┄\u001b[39m %333 = φ (#101 => 0, #115 => %401)\u001b[36m::Int64\u001b[39m\n",
       "\u001b[90m│    \u001b[39m %334 = Base.slt_int(%333, %10)\u001b[36m::Bool\u001b[39m\n",
       "\u001b[90m└────\u001b[39m        goto #116 if not %334\n",
       "\u001b[90m103 ─\u001b[39m %336 = Base.add_int(%333, 1)\u001b[36m::Int64\u001b[39m\n",
       "\u001b[90m└────\u001b[39m        goto #107 if not false\n",
       "\u001b[90m104 ─\u001b[39m %338 = Base.slt_int(0, %336)\u001b[36m::Bool\u001b[39m\n",
       "\u001b[90m│    \u001b[39m %339 = Base.sle_int(%336, %10)\u001b[36m::Bool\u001b[39m\n",
       "\u001b[90m│    \u001b[39m %340 = Base.and_int(%338, %339)\u001b[36m::Bool\u001b[39m\n",
       "\u001b[90m└────\u001b[39m        goto #106 if not %340\n",
       "\u001b[90m105 ─\u001b[39m        goto #107\n",
       "\u001b[90m106 ─\u001b[39m        invoke Base.throw_boundserror(%11::Base.OneTo{Int64}, %336::Int64)\u001b[90m::Union{}\u001b[39m\n",
       "\u001b[90m└────\u001b[39m        unreachable\n",
       "\u001b[90m107 ┄\u001b[39m        goto #108\n",
       "\u001b[90m108 ─\u001b[39m %346 = Core.tuple(%336, %327)\u001b[36m::Tuple{Int64, Int64}\u001b[39m\n",
       "\u001b[90m│    \u001b[39m %347 = %new(CartesianIndex{2}, %346)\u001b[36m::CartesianIndex{2}\u001b[39m\n",
       "\u001b[90m└────\u001b[39m        goto #109\n",
       "\u001b[90m109 ─\u001b[39m        goto #114 if not false\n",
       "\u001b[90m110 ─\u001b[39m %350 = Base.sle_int(1, %336)\u001b[36m::Bool\u001b[39m\n",
       "\u001b[90m│    \u001b[39m %351 = Base.sle_int(%336, %10)\u001b[36m::Bool\u001b[39m\n",
       "\u001b[90m│    \u001b[39m %352 = Base.and_int(%350, %351)\u001b[36m::Bool\u001b[39m\n",
       "\u001b[90m│    \u001b[39m %353 = Base.sle_int(1, %327)\u001b[36m::Bool\u001b[39m\n",
       "\u001b[90m│    \u001b[39m %354 = Base.sle_int(%327, %13)\u001b[36m::Bool\u001b[39m\n",
       "\u001b[90m│    \u001b[39m %355 = Base.and_int(%353, %354)\u001b[36m::Bool\u001b[39m\n",
       "\u001b[90m│    \u001b[39m %356 = Base.and_int(%355, true)\u001b[36m::Bool\u001b[39m\n",
       "\u001b[90m│    \u001b[39m %357 = Base.and_int(%352, %356)\u001b[36m::Bool\u001b[39m\n",
       "\u001b[90m└────\u001b[39m        goto #112 if not %357\n",
       "\u001b[90m111 ─\u001b[39m        goto #113\n",
       "\u001b[90m112 ─\u001b[39m %360 = Base.throw_boundserror\u001b[36m::typeof(Base.throw_boundserror)\u001b[39m\n",
       "\u001b[90m│    \u001b[39m %361 = Core.tuple(%347)\u001b[36m::Tuple{CartesianIndex{2}}\u001b[39m\n",
       "\u001b[90m│    \u001b[39m        invoke %360(%312::Base.Broadcast.Broadcasted{Nothing, Tuple{Base.OneTo{Int64}, Base.OneTo{Int64}}, typeof(+), Tuple{Base.Broadcast.Broadcasted{Base.Broadcast.DefaultArrayStyle{2}, Nothing, typeof(f), Tuple{Base.Broadcast.Extruded{Matrix{Float64}, Tuple{Bool, Bool}, Tuple{Int64, Int64}}, Base.Broadcast.Extruded{Matrix{Float64}, Tuple{Bool, Bool}, Tuple{Int64, Int64}}}}, Base.Broadcast.Broadcasted{Base.Broadcast.DefaultArrayStyle{2}, Nothing, typeof(*), Tuple{Base.Broadcast.Broadcasted{Base.Broadcast.DefaultArrayStyle{2}, Nothing, typeof(exp), Tuple{Base.Broadcast.Extruded{Matrix{Float64}, Tuple{Bool, Bool}, Tuple{Int64, Int64}}}}, Base.Broadcast.Broadcasted{Base.Broadcast.DefaultArrayStyle{2}, Nothing, typeof(cos), Tuple{Base.Broadcast.Extruded{Matrix{Float64}, Tuple{Bool, Bool}, Tuple{Int64, Int64}}}}}}}}, %361::Tuple{CartesianIndex{2}})\u001b[90m::Union{}\u001b[39m\n",
       "\u001b[90m└────\u001b[39m        unreachable\n",
       "\u001b[90m113 ─\u001b[39m        nothing\u001b[90m::Nothing\u001b[39m\n",
       "\u001b[90m114 ┄\u001b[39m %365 = Base.Broadcast.ifelse(%254, %336, 1)\u001b[36m::Int64\u001b[39m\n",
       "\u001b[90m│    \u001b[39m %366 = Base.Broadcast.ifelse(%252, %327, 1)\u001b[36m::Int64\u001b[39m\n",
       "\u001b[90m│    \u001b[39m %367 = Base.arrayref(false, %244, %365, %366)\u001b[36m::Float64\u001b[39m\n",
       "\u001b[90m│    \u001b[39m %368 = Base.Broadcast.ifelse(%298, %336, 1)\u001b[36m::Int64\u001b[39m\n",
       "\u001b[90m│    \u001b[39m %369 = Base.Broadcast.ifelse(%296, %327, 1)\u001b[36m::Int64\u001b[39m\n",
       "\u001b[90m│    \u001b[39m %370 = Base.arrayref(false, %288, %368, %369)\u001b[36m::Float64\u001b[39m\n",
       "\u001b[90m│    \u001b[39m %371 = invoke Main.sin(%367::Float64)\u001b[36m::Float64\u001b[39m\n",
       "\u001b[90m│    \u001b[39m %372 = invoke Main.cos(%370::Float64)\u001b[36m::Float64\u001b[39m\n",
       "\u001b[90m│    \u001b[39m %373 = Base.mul_float(%371, %372)\u001b[36m::Float64\u001b[39m\n",
       "\u001b[90m│    \u001b[39m %374 = Base.getfield(%309, :args)\u001b[36m::Tuple{Base.Broadcast.Broadcasted{Base.Broadcast.DefaultArrayStyle{2}, Nothing, typeof(exp), Tuple{Base.Broadcast.Extruded{Matrix{Float64}, Tuple{Bool, Bool}, Tuple{Int64, Int64}}}}, Base.Broadcast.Broadcasted{Base.Broadcast.DefaultArrayStyle{2}, Nothing, typeof(cos), Tuple{Base.Broadcast.Extruded{Matrix{Float64}, Tuple{Bool, Bool}, Tuple{Int64, Int64}}}}}\u001b[39m\n",
       "\u001b[90m│    \u001b[39m %375 = Base.getfield(%374, 1, false)\u001b[36m::Base.Broadcast.Broadcasted{Base.Broadcast.DefaultArrayStyle{2}, Nothing, typeof(exp), Tuple{Base.Broadcast.Extruded{Matrix{Float64}, Tuple{Bool, Bool}, Tuple{Int64, Int64}}}}\u001b[39m\n",
       "\u001b[90m│    \u001b[39m %376 = Base.getfield(%375, :args)\u001b[36m::Tuple{Base.Broadcast.Extruded{Matrix{Float64}, Tuple{Bool, Bool}, Tuple{Int64, Int64}}}\u001b[39m\n",
       "\u001b[90m│    \u001b[39m %377 = Base.getfield(%376, 1, false)\u001b[36m::Base.Broadcast.Extruded{Matrix{Float64}, Tuple{Bool, Bool}, Tuple{Int64, Int64}}\u001b[39m\n",
       "\u001b[90m│    \u001b[39m %378 = Base.getfield(%377, :x)\u001b[36m::Matrix{Float64}\u001b[39m\n",
       "\u001b[90m│    \u001b[39m %379 = Base.getfield(%377, :keeps)\u001b[36m::Tuple{Bool, Bool}\u001b[39m\n",
       "\u001b[90m│    \u001b[39m %380 = Base.getfield(%379, 1, true)\u001b[36m::Bool\u001b[39m\n",
       "\u001b[90m│    \u001b[39m %381 = Base.Broadcast.ifelse(%380, %336, 1)\u001b[36m::Int64\u001b[39m\n",
       "\u001b[90m│    \u001b[39m %382 = Core.getfield(%379, 2)\u001b[36m::Bool\u001b[39m\n",
       "\u001b[90m│    \u001b[39m %383 = Base.Broadcast.ifelse(%382, %327, 1)\u001b[36m::Int64\u001b[39m\n",
       "\u001b[90m│    \u001b[39m %384 = Base.arrayref(false, %378, %381, %383)\u001b[36m::Float64\u001b[39m\n",
       "\u001b[90m│    \u001b[39m %385 = invoke exp(%384::Float64)\u001b[36m::Float64\u001b[39m\n",
       "\u001b[90m│    \u001b[39m %386 = Core.getfield(%374, 2)\u001b[36m::Base.Broadcast.Broadcasted{Base.Broadcast.DefaultArrayStyle{2}, Nothing, typeof(cos), Tuple{Base.Broadcast.Extruded{Matrix{Float64}, Tuple{Bool, Bool}, Tuple{Int64, Int64}}}}\u001b[39m\n",
       "\u001b[90m│    \u001b[39m %387 = Base.getfield(%386, :args)\u001b[36m::Tuple{Base.Broadcast.Extruded{Matrix{Float64}, Tuple{Bool, Bool}, Tuple{Int64, Int64}}}\u001b[39m\n",
       "\u001b[90m│    \u001b[39m %388 = Base.getfield(%387, 1, false)\u001b[36m::Base.Broadcast.Extruded{Matrix{Float64}, Tuple{Bool, Bool}, Tuple{Int64, Int64}}\u001b[39m\n",
       "\u001b[90m│    \u001b[39m %389 = Base.getfield(%388, :x)\u001b[36m::Matrix{Float64}\u001b[39m\n",
       "\u001b[90m│    \u001b[39m %390 = Base.getfield(%388, :keeps)\u001b[36m::Tuple{Bool, Bool}\u001b[39m\n",
       "\u001b[90m│    \u001b[39m %391 = Base.getfield(%390, 1, true)\u001b[36m::Bool\u001b[39m\n",
       "\u001b[90m│    \u001b[39m %392 = Base.Broadcast.ifelse(%391, %336, 1)\u001b[36m::Int64\u001b[39m\n",
       "\u001b[90m│    \u001b[39m %393 = Core.getfield(%390, 2)\u001b[36m::Bool\u001b[39m\n",
       "\u001b[90m│    \u001b[39m %394 = Base.Broadcast.ifelse(%393, %327, 1)\u001b[36m::Int64\u001b[39m\n",
       "\u001b[90m│    \u001b[39m %395 = Base.arrayref(false, %389, %392, %394)\u001b[36m::Float64\u001b[39m\n",
       "\u001b[90m│    \u001b[39m %396 = invoke cos(%395::Float64)\u001b[36m::Float64\u001b[39m\n",
       "\u001b[90m│    \u001b[39m %397 = Base.mul_float(%385, %396)\u001b[36m::Float64\u001b[39m\n",
       "\u001b[90m│    \u001b[39m %398 = Base.add_float(%373, %397)\u001b[36m::Float64\u001b[39m\n",
       "\u001b[90m└────\u001b[39m        goto #115\n",
       "\u001b[90m115 ─\u001b[39m        Base.arrayset(false, y, %398, %336, %327)\u001b[90m::Matrix{Float64}\u001b[39m\n",
       "\u001b[90m│    \u001b[39m %401 = Base.add_int(%333, 1)\u001b[36m::Int64\u001b[39m\n",
       "\u001b[90m│    \u001b[39m        $(Expr(:loopinfo, Symbol(\"julia.simdloop\"), nothing))\u001b[90m::Any\u001b[39m\n",
       "\u001b[90m└────\u001b[39m        goto #102\n",
       "\u001b[90m116 ┄\u001b[39m %404 = Base.add_int(%328, 1)\u001b[36m::Int64\u001b[39m\n",
       "\u001b[90m│    \u001b[39m %405 = Base.sle_int(1, %404)\u001b[36m::Bool\u001b[39m\n",
       "\u001b[90m│    \u001b[39m %406 = Base.sle_int(%404, %13)\u001b[36m::Bool\u001b[39m\n",
       "\u001b[90m│    \u001b[39m %407 = Base.and_int(%405, %406)\u001b[36m::Bool\u001b[39m\n",
       "\u001b[90m└────\u001b[39m        goto #118 if not %407\n",
       "\u001b[90m117 ─\u001b[39m %409 = (%329 === %13)\u001b[36m::Bool\u001b[39m\n",
       "\u001b[90m│    \u001b[39m %410 = Base.not_int(%409)\u001b[36m::Bool\u001b[39m\n",
       "\u001b[90m└────\u001b[39m        goto #119\n",
       "\u001b[90m118 ─\u001b[39m        nothing\u001b[90m::Nothing\u001b[39m\n",
       "\u001b[90m119 ┄\u001b[39m %413 = φ (#117 => %410, #118 => false)\u001b[36m::Bool\u001b[39m\n",
       "\u001b[90m└────\u001b[39m        goto #120\n",
       "\u001b[90m120 ─\u001b[39m        goto #122 if not %413\n",
       "\u001b[90m121 ─\u001b[39m        goto #123\n",
       "\u001b[90m122 ─\u001b[39m        Base.IteratorsMD.nothing\u001b[90m::Nothing\u001b[39m\n",
       "\u001b[90m└────\u001b[39m        goto #123\n",
       "\u001b[90m123 ┄\u001b[39m %419 = φ (#121 => %404)\u001b[36m::Int64\u001b[39m\n",
       "\u001b[90m│    \u001b[39m %420 = φ (#121 => %404)\u001b[36m::Int64\u001b[39m\n",
       "\u001b[90m│    \u001b[39m %421 = φ (#121 => %404)\u001b[36m::Int64\u001b[39m\n",
       "\u001b[90m│    \u001b[39m %422 = φ (#121 => false, #122 => true)\u001b[36m::Bool\u001b[39m\n",
       "\u001b[90m│    \u001b[39m %423 = Base.not_int(%422)\u001b[36m::Bool\u001b[39m\n",
       "\u001b[90m└────\u001b[39m        goto #125 if not %423\n",
       "\u001b[90m124 ─\u001b[39m        goto #100\n",
       "\u001b[90m125 ┄\u001b[39m        goto #127\n",
       "\u001b[90m126 ─\u001b[39m %427 = Base.arraysize(y, 1)\u001b[36m::Int64\u001b[39m\n",
       "\u001b[90m│    \u001b[39m %428 = Base.arraysize(y, 2)\u001b[36m::Int64\u001b[39m\n",
       "\u001b[90m│    \u001b[39m %429 = Base.slt_int(%427, 0)\u001b[36m::Bool\u001b[39m\n",
       "\u001b[90m│    \u001b[39m %430 = Base.ifelse(%429, 0, %427)\u001b[36m::Int64\u001b[39m\n",
       "\u001b[90m│    \u001b[39m %431 = %new(Base.OneTo{Int64}, %430)\u001b[36m::Base.OneTo{Int64}\u001b[39m\n",
       "\u001b[90m│    \u001b[39m %432 = Base.slt_int(%428, 0)\u001b[36m::Bool\u001b[39m\n",
       "\u001b[90m│    \u001b[39m %433 = Base.ifelse(%432, 0, %428)\u001b[36m::Int64\u001b[39m\n",
       "\u001b[90m│    \u001b[39m %434 = %new(Base.OneTo{Int64}, %433)\u001b[36m::Base.OneTo{Int64}\u001b[39m\n",
       "\u001b[90m│    \u001b[39m %435 = Core.tuple(%431, %434)\u001b[36m::Tuple{Base.OneTo{Int64}, Base.OneTo{Int64}}\u001b[39m\n",
       "\u001b[90m│    \u001b[39m        invoke Base.Broadcast.throwdm(%435::Tuple{Base.OneTo{Int64}, Base.OneTo{Int64}}, %15::Tuple{Base.OneTo{Int64}, Base.OneTo{Int64}})\u001b[90m::Union{}\u001b[39m\n",
       "\u001b[90m└────\u001b[39m        unreachable\n",
       "\u001b[90m127 ─\u001b[39m        goto #128\n",
       "\u001b[90m128 ─\u001b[39m        goto #129\n",
       "\u001b[90m129 ─\u001b[39m        goto #130\n",
       "\u001b[90m130 ─\u001b[39m        return y\n",
       ") => Matrix{Float64}"
      ]
     },
     "execution_count": 17,
     "metadata": {},
     "output_type": "execute_result"
    }
   ],
   "source": [
    "@code_typed inputf(f, x, y)"
   ]
  }
 ],
 "metadata": {
  "kernelspec": {
   "display_name": "Julia 1.7.2",
   "language": "julia",
   "name": "julia-1.7"
  },
  "language_info": {
   "file_extension": ".jl",
   "mimetype": "application/julia",
   "name": "julia",
   "version": "1.7.2"
  },
  "orig_nbformat": 4
 },
 "nbformat": 4,
 "nbformat_minor": 2
}
