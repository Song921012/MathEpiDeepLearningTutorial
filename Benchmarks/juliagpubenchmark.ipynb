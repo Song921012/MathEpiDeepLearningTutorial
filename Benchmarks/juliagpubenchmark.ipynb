{
 "cells": [
  {
   "cell_type": "code",
   "execution_count": 12,
   "metadata": {},
   "outputs": [
    {
     "name": "stdout",
     "output_type": "stream",
     "text": [
      "  0.951009 seconds (1.21 M allocations: 68.954 MiB, 94.08% compilation time)\n"
     ]
    }
   ],
   "source": [
    "using OrdinaryDiffEq, CUDA, LinearAlgebra\n",
    "u0 = rand(1000)\n",
    "A = randn(1000, 1000)\n",
    "f(du, u, p, t) = mul!(du, A, u)\n",
    "f1(du, u, p, t) = mul!(du, cu(A), u)\n",
    "prob = ODEProblem(f, u0, (0.0, 1.0))\n",
    "prob1 = ODEProblem(f1, cu(u0), (0.0f0, 1.0f0))\n",
    "@time sol = solve(prob, Tsit5());"
   ]
  },
  {
   "cell_type": "code",
   "execution_count": 14,
   "metadata": {},
   "outputs": [
    {
     "name": "stdout",
     "output_type": "stream",
     "text": [
      "  0.704380 seconds (28.08 k allocations: 1.086 GiB, 9.34% gc time)\n"
     ]
    }
   ],
   "source": [
    "@time sol = solve(prob1,Tsit5());"
   ]
  },
  {
   "cell_type": "code",
   "execution_count": 6,
   "metadata": {},
   "outputs": [
    {
     "name": "stdout",
     "output_type": "stream",
     "text": [
      " 37.537149 seconds (91.96 M allocations: 5.942 GiB, 4.26% gc time, 78.19% compilation time)\n"
     ]
    },
    {
     "data": {
      "text/plain": [
       "EnsembleSolution Solution of length 10000 with uType:\n",
       "ODESolution{Float32, 2, uType, Nothing, Nothing, Vector{Float32}, rateType, ODEProblem{Vector{Float32}, Tuple{Float32, Float32}, true, Vector{Float32}, ODEFunction{true, typeof(lorenz), UniformScaling{Bool}, Nothing, Nothing, Nothing, Nothing, Nothing, Nothing, Nothing, Nothing, Nothing, Nothing, Nothing, Nothing, typeof(SciMLBase.DEFAULT_OBSERVED), Nothing}, Base.Pairs{Symbol, Union{}, Tuple{}, NamedTuple{(), Tuple{}}}, SciMLBase.StandardODEProblem}, Tsit5{typeof(OrdinaryDiffEq.trivial_limiter!), typeof(OrdinaryDiffEq.trivial_limiter!), Static.False}, IType, DiffEqBase.DEStats} where {uType, rateType, IType}"
      ]
     },
     "execution_count": 6,
     "metadata": {},
     "output_type": "execute_result"
    }
   ],
   "source": [
    "using DiffEqGPU, OrdinaryDiffEq\n",
    "function lorenz(du,u,p,t)\n",
    "    du[1] = p[1]*(u[2]-u[1])\n",
    "    du[2] = u[1]*(p[2]-u[3]) - u[2]\n",
    "    du[3] = u[1]*u[2] - p[3]*u[3]\n",
    "end\n",
    "\n",
    "u0 = Float32[1.0;0.0;0.0]\n",
    "tspan = (0.0f0,100.0f0)\n",
    "p = [10.0f0,28.0f0,8/3f0]\n",
    "prob = ODEProblem(lorenz,u0,tspan,p)\n",
    "prob_func = (prob,i,repeat) -> remake(prob,p=rand(Float32,3).*p)\n",
    "monteprob = EnsembleProblem(prob, prob_func = prob_func, safetycopy=false)\n",
    "@time sol = solve(monteprob,Tsit5(),EnsembleGPUArray(),trajectories=10_000,saveat=1.0f0)"
   ]
  }
 ],
 "metadata": {
  "kernelspec": {
   "display_name": "Julia 1.7.2",
   "language": "julia",
   "name": "julia-1.7"
  },
  "language_info": {
   "file_extension": ".jl",
   "mimetype": "application/julia",
   "name": "julia",
   "version": "1.7.2"
  },
  "orig_nbformat": 4
 },
 "nbformat": 4,
 "nbformat_minor": 2
}
